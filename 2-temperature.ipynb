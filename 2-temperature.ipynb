{
 "cells": [
  {
   "cell_type": "markdown",
   "metadata": {},
   "source": [
    "***\n",
    "\n",
    "# Geothermal Well Test Analysis with Python\n",
    "### Notebook 2: Temperature log data extraction and interpretation\n",
    "#### Irene Wallis and Katie McLean \n",
    "#### Software Underground, Transform 2021\n",
    "***\n",
    "\n",
    "# 4. Introduction to temperature logs\n",
    "\n",
    "Given that geothermal development seeks to mine heat energy from the Earth, temperature logs are arguably the most important data we acquire. In this tutorial, we will give a short introduction to handling these data and how they are interpreted.\n",
    "\n",
    "## 4.1 Uses of temperature logs in geothermal exploration and development\n",
    "\n",
    "- Feed zone identification\n",
    "- Interpreting well/reservoir events (e.g., heating after drilling or the initiation of a cool reservoir down flow)\n",
    "- Constraining conceptual models (natural state temperature profiles)\n",
    "- Calibrating reservoir models\n",
    "\n",
    "## 4.2 Key considerations when evaluating temperature data\n",
    "\n",
    "- The well status (shut, injection, flowing) while the log was acquired \n",
    "- When the temperature log was acquired (e.g., the time that has elapsed since drilling or since the well was flowed) \n",
    "- The thermodynamic conditions inside the well (liquid, two-phase, steam, cold gas)"
   ]
  },
  {
   "cell_type": "markdown",
   "metadata": {},
   "source": [
    "***\n",
    "\n",
    "# 5. Extract a completion test temprature log\n",
    "\n",
    "## 5.1 Use functions to import and munge the PTS and pump data\n",
    "\n",
    "The data munging process in 1-overview.ipynb has been turned into specilised functions located in the functions.py file. We import and use that set of functions in the same way as any other module."
   ]
  },
  {
   "cell_type": "code",
   "execution_count": null,
   "metadata": {},
   "outputs": [],
   "source": [
    "import pandas as pd\n",
    "from utilities import* # functions in the utilities.py file"
   ]
  },
  {
   "cell_type": "markdown",
   "metadata": {},
   "source": [
    "Because the cell below includes all steps required to import and munge the data (everything from notebook 1), it will take a little while to run. "
   ]
  },
  {
   "cell_type": "code",
   "execution_count": null,
   "metadata": {},
   "outputs": [],
   "source": [
    "flowrate = read_flowrate(r'Data-FlowRate.xlsx')\n",
    "pts = read_pts(r'Data-PTS.xlsx')"
   ]
  },
  {
   "cell_type": "code",
   "execution_count": null,
   "metadata": {},
   "outputs": [],
   "source": [
    "print(pts.shape)\n",
    "pts.head(2)"
   ]
  },
  {
   "cell_type": "markdown",
   "metadata": {},
   "source": [
    "## 5.2 Look at the data\n",
    "\n",
    "It is good practice to plot data after import so any issues are revealed. \n",
    "\n",
    "Note that the temprature logs look a little odd because they include the data aquired while the tool was held stationary for pressure monitoring. "
   ]
  },
  {
   "cell_type": "code",
   "execution_count": null,
   "metadata": {},
   "outputs": [],
   "source": [
    "import matplotlib.pyplot as plt\n",
    "import matplotlib.dates as mdates\n",
    "\n",
    "fig, (ax1, ax2) = plt.subplots(1, 2,figsize=(24,8),sharey=True)\n",
    "\n",
    "spinner_scatter = ax1.scatter(pts.temp_degC, pts.depth_m, c = pts.timestamp, s = 5, linewidths = 0)\n",
    "datetime_scatter = ax2.scatter(pts.datetime, pts.depth_m, c = pts.timestamp, s = 5, linewidths = 0)\n",
    "\n",
    "ax3 = ax2.twinx()\n",
    "ax3.plot(flowrate.datetime, flowrate.flow_tph, \n",
    "    c='k', linestyle = '-', linewidth = 3, alpha = 0.3, \n",
    "    label='Surface pump flowrate')\n",
    "\n",
    "ax1.set_ylabel('Depth [m]')\n",
    "ax1.set_xlabel('Temp [degC]')\n",
    "\n",
    "ax2.set_xlabel('Time [hh:mm]')\n",
    "ax2.xaxis.set_major_formatter(mdates.DateFormatter('%H:%M'))\n",
    "\n",
    "ax3.set_ylabel('Flowrate [t/hr]')\n",
    "\n",
    "ax1.set_ylim(1000,0)\n",
    "ax1.set_xlim(0,200)\n",
    "\n",
    "for ax in [ax1, ax2]:\n",
    "    ax.grid()\n"
   ]
  },
  {
   "cell_type": "markdown",
   "metadata": {},
   "source": [
    "## 5.3 Remove data acquired when the tool is stationary or slowing\n",
    "\n",
    "We decided that, in this case, data acquired when the tool is moving down the well at > 0.02 m/s is fast enough to be included. The reasoning behind this method is described in the notebook Bonous-filter-by-toolspeed.ipynb\n",
    " \n",
    "In the cell below, we use a Boolean expression to filter the pts dataframe. Our new working dataframe is called moving_pts "
   ]
  },
  {
   "cell_type": "code",
   "execution_count": null,
   "metadata": {},
   "outputs": [],
   "source": [
    "moving_pts = pts[\n",
    "    (pts.speed_mps > 0.9 ) & (pts.speed_mps < pts.speed_mps.max()) | \n",
    "    (pts.speed_mps > pts.speed_mps.min() ) & (pts.speed_mps < -0.9)\n",
    "    ]"
   ]
  },
  {
   "cell_type": "code",
   "execution_count": null,
   "metadata": {},
   "outputs": [],
   "source": [
    "moving_pts.describe()"
   ]
  },
  {
   "cell_type": "markdown",
   "metadata": {},
   "source": [
    "## 5.4 Extract the first heating run from the data\n",
    "\n",
    "We often want to select a single temperature log for analysis. In this example, we will extract the first heating run (i.e., the temperature log acquired after we stopped pumping into the well)\n",
    "\n",
    "We will use an interactive tool called ipywidgets to select the start and end time of our desired data range. "
   ]
  },
  {
   "cell_type": "code",
   "execution_count": null,
   "metadata": {},
   "outputs": [],
   "source": [
    "from ipywidgets import interactive, Layout, FloatSlider\n",
    "\n",
    "min_timestamp = pts.timestamp.iloc[0]\n",
    "max_timestamp = pts.timestamp.iloc[-1]\n",
    "\n",
    "def subselect_plot(start_value, stop_value):\n",
    "    f,ax = plt.subplots(1,1, figsize = (20,6))\n",
    "    ax.scatter(moving_pts.timestamp, moving_pts.depth_m,\n",
    "        c = 'k', s = 1, linewidths = 0, label = 'Tool depth')\n",
    "    ax1 = ax.twinx()\n",
    "    ax1.plot(flowrate.timestamp, flowrate.flow_tph, \n",
    "        ':', c='k', label='Surface pump flowrate')\n",
    "    ymin = pts.depth_m.min()\n",
    "    ymax = pts.depth_m.max() + 100\n",
    "    ax.vlines(start_value, ymin, ymax, color='tab:green')\n",
    "    ax.vlines(stop_value, ymin, ymax, color='tab:red')\n",
    "    ax.set_ylim(pts.depth_m.max() + 100, 0)\n",
    "    ax.set_xlabel('Timestamp [sec]')\n",
    "    ax.set_ylabel('Tool depth [m]')\n",
    "    ax1.set_ylabel('Flowrate [t/hr]')\n",
    "\n",
    "result = interactive(subselect_plot,\n",
    "         \n",
    "         start_value = FloatSlider\n",
    "         (\n",
    "             value = (max_timestamp - min_timestamp)/3 + min_timestamp,\n",
    "             description = 'start',\n",
    "             min = min_timestamp, \n",
    "             max = max_timestamp, \n",
    "             step = 10, \n",
    "             continuous_update=False,\n",
    "             layout = Layout(width='80%'),\n",
    "             ),\n",
    "          \n",
    "          stop_value = FloatSlider\n",
    "          (\n",
    "             value = (max_timestamp - min_timestamp)/2 + min_timestamp, \n",
    "             description = 'stop',\n",
    "             min = min_timestamp, \n",
    "             max = max_timestamp, \n",
    "             step = 10, \n",
    "             continuous_update=False,\n",
    "             layout = Layout(width='80%')\n",
    "             )\n",
    ")\n",
    "\n",
    "display(result);\n"
   ]
  },
  {
   "cell_type": "markdown",
   "metadata": {},
   "source": [
    "### Make your selection\n",
    "\n",
    "Move the sliders above and then run the cell below to return the timestamp at the location of the slider. \n",
    "\n",
    "Each time you change this plot, the underlying array of data that we call with the result.children\\[x\\] statement is changed."
   ]
  },
  {
   "cell_type": "code",
   "execution_count": null,
   "metadata": {},
   "outputs": [],
   "source": [
    "print(\n",
    "    'start =',result.children[0].value, ' which is', datetime.fromtimestamp(result.children[0].value), \n",
    "    '\\n stop =', result.children[1].value, ' which is', datetime.fromtimestamp(result.children[1].value),\n",
    "    )"
   ]
  },
  {
   "cell_type": "markdown",
   "metadata": {},
   "source": [
    "### Record your analysis\n",
    "\n",
    "As part of making this process repeatable and so that it is easy to come back later to check the analysis, you need to use the range you have selected to manually define objects in the next step.\n",
    "\n",
    "Copy-paste the timestamps printed above into the cell below. They are now the objects that define the start and stop points for splicing the moving_pts dataframe. \n",
    "\n",
    "We could have defined the start and stop objects as the result.childern\\[0\\].value and result.childern\\[1\\].value objects. But if we did this, you would lose your work because these ipywidget results change every time the sliders are moved or the notebook is re-run. "
   ]
  },
  {
   "cell_type": "code",
   "execution_count": null,
   "metadata": {},
   "outputs": [],
   "source": [
    "\n",
    "start = 1607655784.448  # paste your start value here\n",
    "stop = 1607656174.448   # paste your stop value here\n",
    "name = 'First heating run'  # create an informative title for the data\n",
    "\n",
    "pts_first_heating_run = moving_pts[\n",
    "    (moving_pts.datetime > datetime.fromtimestamp(start)) \n",
    "    & (moving_pts.datetime < datetime.fromtimestamp(stop))\n",
    "]\n",
    "\n",
    "flowrate_first_heating_run = flowrate[\n",
    "    (flowrate.datetime > datetime.fromtimestamp(start)) \n",
    "    & (flowrate.datetime < datetime.fromtimestamp(stop))\n",
    "]"
   ]
  },
  {
   "cell_type": "code",
   "execution_count": null,
   "metadata": {},
   "outputs": [],
   "source": [
    "pts_first_heating_run.shape"
   ]
  },
  {
   "cell_type": "markdown",
   "metadata": {},
   "source": [
    "The overview_fig function from utilities.py generates a figure that displays our data selection. \n",
    "\n",
    "Note that surface flow rate = 0 because this log is acquired after the pumps were shut off. "
   ]
  },
  {
   "cell_type": "code",
   "execution_count": null,
   "metadata": {},
   "outputs": [],
   "source": [
    "overview_fig(pts_first_heating_run, flowrate_first_heating_run, title = name).show()"
   ]
  },
  {
   "cell_type": "markdown",
   "metadata": {},
   "source": [
    "### Export data as a csv \n",
    "\n",
    "Use the following method to export your selected data to use elsewhere. "
   ]
  },
  {
   "cell_type": "code",
   "execution_count": null,
   "metadata": {},
   "outputs": [],
   "source": [
    "#pts_first_heating_run.to_csv('Data-Temp-Heating0days.csv', index=False)"
   ]
  },
  {
   "cell_type": "markdown",
   "metadata": {},
   "source": [
    "## 5.5 Import and calculate contextualising data\n",
    "\n",
    "We have provided some contextualising data that:\n",
    "1. Illustrates how geothermal wells heat up over time \n",
    "2. Helps us interpret the temperature log we just extracted \n",
    "\n",
    "### 5.5.1 Stable temperature\n",
    "\n",
    "A temperature log was acquired in this well 37 days after it was drilled and tested. In this resource, it reflects the stable temperature of this well. In low permeability settings, wells may take months to fully heat after drilling and testing."
   ]
  },
  {
   "cell_type": "code",
   "execution_count": null,
   "metadata": {},
   "outputs": [],
   "source": [
    "heating_37days = pd.read_csv('Data-Temp-Heating37days.csv')\n",
    "\n",
    "heating_37days['pressure_bara'] = heating_37days.pres_barg - 1\n",
    "\n",
    "heating_37days.head(2)"
   ]
  },
  {
   "cell_type": "markdown",
   "metadata": {},
   "source": [
    "### 5.5.2 Saturation temperature aka the boiling point for depth (BPD) curve\n",
    "\n",
    "Water will boil at a given pressure - temperature condition. We use steam tables to calculate the temperature boiling will occur given the measured pressure. This curve helps us to understand the thermodynamic conditions inside the well. \n",
    "\n",
    "The python package we use to access the steam tables is not already in Anaconda. If you did not make an environment for this tutoral using the environment.yml file, you may need to install iapws. \n",
    "\n",
    "If you get a 'ModuleNotFound' error when you run the cell below, then you may need to install the ipaws package. Open the Anaconda prompt (windows) or a terminal (mac) and run the following after you have checked that you are in the correct conda environment.\n",
    "\n",
    "> pip install iapws"
   ]
  },
  {
   "cell_type": "code",
   "execution_count": null,
   "metadata": {},
   "outputs": [],
   "source": [
    "import iapws\n",
    "# note that iapws uses SI units so some unit conversion is required\n",
    "\n",
    "heating_37days['pressure_mpa'] = heating_37days.pressure_bara * 0.1  # convert pressure to MPa for ipaws\n",
    "\n",
    "pressure = heating_37days['pressure_mpa'].tolist()\n",
    "tsat = []\n",
    "for p in pressure:\n",
    "    saturation_temp = iapws.iapws97._TSat_P(p) - 273.15  # calculate saturation temp in Kelvin & convert to degC\n",
    "    tsat.append(saturation_temp)\n",
    "heating_37days['tsat_degC'] = tsat\n",
    "\n",
    "heating_37days.head(2)"
   ]
  },
  {
   "cell_type": "markdown",
   "metadata": {},
   "source": [
    "### 5.5.3 Well completion information\n",
    "\n",
    "Understanding where we are in the well helps us to interpret the data. This is particularly important when we seek to understand what is a process occurring inside the well and what is related to the reservoir. "
   ]
  },
  {
   "cell_type": "code",
   "execution_count": null,
   "metadata": {},
   "outputs": [],
   "source": [
    "production_shoe = 462.5 # 13 3/8 production casing shoe in meters measured depth (mMD) from the casing head flange (CHF)\n",
    "top_of_liner = 425 # top of perferated 10 3/4 liner in meters measured depth (mMD) from CHF\n",
    "terminal_depth = 946 # deepest drilled depth \n",
    "# the perferated liner is squatted on bottom but didn't quite make it all the way down (bottom of liner is 931 mMD)"
   ]
  },
  {
   "cell_type": "markdown",
   "metadata": {},
   "source": [
    "### Datums and depth measurements for well test data\n",
    "\n",
    "The depth of downhole data comes in two forms: \n",
    "- Meters measured depth (mMD), which is the number of meters along the well path\n",
    "- Vertical meters (mVD), which is the number of meters in the vertical dimension \n",
    "\n",
    "It is typical for completion test data to be acquired and analysed in measured depth. However, when we seek to understand features of the reservoir, we need to also consider data in vertical depth.  \n",
    "\n",
    "There are a range of datums that are used in geothermal: \n",
    "- During drilling, most data is acquired relative to the rig floor or rotary table\n",
    "- Well test data acquired after the rig has been demobilised is typically acquired relative to the casing head flange (CHF) or the cellar top (CT), where the latter typically has a survey marker\n",
    "- Data may also be presented relative to sea level (RSL) or above sea level (ASL)\n",
    "\n",
    "It is ambiguous to define data relative to ground level (GL) because of the degree of civil construction that occurs on well pads. "
   ]
  },
  {
   "cell_type": "markdown",
   "metadata": {},
   "source": [
    "## 5.6 Visualise the data for interpretation\n",
    "\n"
   ]
  },
  {
   "cell_type": "code",
   "execution_count": null,
   "metadata": {},
   "outputs": [],
   "source": [
    "import matplotlib.pyplot as plt \n",
    "import matplotlib.dates as mdates\n",
    "\n",
    "fig, (ax1, ax2) = plt.subplots(1, 2,figsize=(10,10),sharey=True)\n",
    "\n",
    "\n",
    "ax1.set_title('All completion test temperature logs')\n",
    "\n",
    "# all temp data colored by time \n",
    "ax1.scatter(moving_pts.temp_degC, moving_pts.depth_m,     \n",
    "    c = moving_pts.timestamp, s = 5, linewidths = 0)\n",
    "\n",
    "# our sub-selected data\n",
    "ax1.plot(pts_first_heating_run.temp_degC, pts_first_heating_run.depth_m,\n",
    "    color = 'k', linestyle = ':', label = 'Our selected data')\n",
    "\n",
    "# blank well casing\n",
    "ax1.plot([1, 1],[0, production_shoe],\n",
    "    color = 'k', linewidth = 3, linestyle = '-')\n",
    "\n",
    "# perforated well casing\n",
    "ax1.plot([5, 5],[top_of_liner, terminal_depth],     \n",
    "    color = 'k', linewidth = 1.5, linestyle = '--')\n",
    "\n",
    "\n",
    "ax2.set_title('Heating (shut) temperature logs')\n",
    "\n",
    "# our sub-selected pressure + temp data\n",
    "ax2.plot(pts_first_heating_run.temp_degC, pts_first_heating_run.depth_m, \n",
    "    color ='#EBE85B', linewidth = 3, label = 'Day 0 - temp')\n",
    "\n",
    "ax2.plot(pts_first_heating_run.pressure_bara, pts_first_heating_run.depth_m, \n",
    "    linestyle = '--', linewidth = 3, color = '#EBE85B', label = 'Day 0 - pres')\n",
    "\n",
    "# stable pressure + temp data\n",
    "ax2.plot(heating_37days.temp_degC, heating_37days.depth_m, \n",
    "    color = 'k', label = 'Day 37 - temp')\n",
    "\n",
    "ax2.plot(heating_37days.pressure_bara, heating_37days.depth_m, \n",
    "    linestyle = '--', color = 'k', label = 'Day 37 - pres')\n",
    "\n",
    "# saturation temp for the stable pressure\n",
    "ax2.plot(heating_37days.tsat_degC, heating_37days.depth_m, \n",
    "    linestyle = ':', color = 'k', label = 'Day 37 - BPD')\n",
    "\n",
    "\n",
    "ax1.set_ylim(1000,0) \n",
    "ax1.set_ylabel('Depth [m]')\n",
    "ax1.set_xlim(0,200)\n",
    "ax1.legend()\n",
    "\n",
    "ax2.legend()\n",
    "ax2.set_xlim(0,300)\n",
    "\n",
    "for ax in [ax1,ax2]:\n",
    "    ax.set_xlabel('Temperature [degC] or Pressure [bara]')\n",
    "    ax.grid()\n"
   ]
  },
  {
   "cell_type": "markdown",
   "metadata": {},
   "source": [
    "## 6. Temperature in our case study well\n",
    "\n",
    "This is not a course on how to read temperature logs. However, we can make a couple of quick observations of these data. \n",
    "\n",
    "- The injecting temperature profiles are a completely different shape from the heating (shut) profiles. This illustrates the importance of knowing what the well condition was when the temperature log was acquired (i.e., shut, injection, flowing, bleed).\n",
    "- The two heating (shut) profiles have a completely different shape. This illustrates how important it is to know _when_ the temperature log was acquired relative to operations that impact well temprature (i.e., drilling, injection testing or quenching, flowing, etc). \n",
    "- It is heating up the most rapidly just below 700 mMD where two-phase fluid is entering the well. \n",
    "- The 37-day heating profile is on the BPD profile from 450-600 mMD, so we would expect two-phase conditions there. The BPD used is for pure water and may not be exact. Below 600 mMD we expect that the well is compressed liquid.\n"
   ]
  },
  {
   "cell_type": "markdown",
   "metadata": {},
   "source": [
    "***\n",
    "\n",
    "<p><center>© 2021 <a href=\"https://www.cubicearth.nz/\">Irene Wallis</a> and <a href=\"https://www.linkedin.com/in/katie-mclean-25994315/\">Katie McLean</a> <a href=\"https://creativecommons.org/licenses/by/4.0/\"</a></center></p>\n",
    "\n",
    "<p><center>Licensed under the Apache License, Version 2.0</center></p>\n",
    "\n",
    "***"
   ]
  },
  {
   "cell_type": "code",
   "execution_count": null,
   "metadata": {},
   "outputs": [],
   "source": []
  }
 ],
 "metadata": {
  "kernelspec": {
   "display_name": "geothrm",
   "language": "python",
   "name": "geothrm"
  },
  "language_info": {
   "codemirror_mode": {
    "name": "ipython",
    "version": 3
   },
   "file_extension": ".py",
   "mimetype": "text/x-python",
   "name": "python",
   "nbconvert_exporter": "python",
   "pygments_lexer": "ipython3",
   "version": "3.7.9"
  }
 },
 "nbformat": 4,
 "nbformat_minor": 4
}