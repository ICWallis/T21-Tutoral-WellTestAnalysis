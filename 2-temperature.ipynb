{
 "cells": [
  {
   "cell_type": "markdown",
   "metadata": {},
   "source": [
    "***\n",
    "\n",
    "# 4. Introduction to temperature logs\n",
    "\n",
    "This is a short introduction to a large topic. Given that geothermal seeks to mine heat energy, temperature logs are arguably the most important data we acquire. \n",
    "\n",
    "## 4.1 The temperature when?\n",
    "\n",
    "When and under what well condition were the temperature logs acquired? \n",
    "\n",
    "## 4.2 Uses of temperature logs in geothermal\n",
    "\n",
    "Feedzone identification (all raw well temperature logs)\n",
    "\n",
    "Interpreting well/reservoir events, such as a change in the reservoir temperature with time such as heating after drilling or the initiation of a cool reservoir downflow (comparison of static temperature logs with time)\n",
    "\n",
    "Constraining conceptual models and calibrating reservoir models (natural state temperature profiles)\n",
    "\n"
   ]
  },
  {
   "cell_type": "markdown",
   "metadata": {},
   "source": [
    "***\n",
    "\n",
    "# 5. Extract and evauluate temprature from completion test data\n",
    "\n",
    "## 5.1 Use functions to import and mudge data\n",
    "\n",
    "The flowrate and PTS data munging process in 1-overview.ipynb has been turned into specilised functions located in the functions.py file. We import and use that set of functions in the same way as any other module."
   ]
  },
  {
   "cell_type": "code",
   "execution_count": null,
   "metadata": {},
   "outputs": [],
   "source": [
    "import pandas as pd\n",
    "from utilities import* # functions in the utilities.py file"
   ]
  },
  {
   "source": [
    "Because the cell below includes all steps required to import and mudge the data (everything from notebook 1), it will take a little while to run. "
   ],
   "cell_type": "markdown",
   "metadata": {}
  },
  {
   "cell_type": "code",
   "execution_count": null,
   "metadata": {},
   "outputs": [],
   "source": [
    "flowrate = read_flowrate(r'Data-FlowRate.xlsx')\n",
    "pts = read_pts(r'Data-PTS.xlsx')"
   ]
  },
  {
   "cell_type": "code",
   "execution_count": null,
   "metadata": {},
   "outputs": [],
   "source": [
    "pts.info()"
   ]
  },
  {
   "cell_type": "code",
   "execution_count": null,
   "metadata": {},
   "outputs": [],
   "source": [
    "flowrate.info()"
   ]
  },
  {
   "cell_type": "code",
   "execution_count": null,
   "metadata": {},
   "outputs": [],
   "source": [
    "print(pts.shape)\n",
    "pts.head()"
   ]
  },
  {
   "cell_type": "code",
   "execution_count": null,
   "metadata": {},
   "outputs": [],
   "source": [
    "import matplotlib.pyplot as plt\n",
    "import matplotlib.dates as mdates\n",
    "\n",
    "fig, (ax1, ax2) = plt.subplots(1, 2,figsize=(24,8),sharey=True)\n",
    "\n",
    "spinner_scatter = ax1.scatter(pts.temp_degC, pts.depth_m, c = pts.timestamp, s = 5, linewidths = 0)\n",
    "datetime_scatter = ax2.scatter(pts.datetime, pts.depth_m, c = pts.timestamp, s = 5, linewidths = 0)\n",
    "\n",
    "ax3 = ax2.twinx()\n",
    "ax3.plot(flowrate.datetime, flowrate.flow_tph, \n",
    "    c='k', linestyle = '-', linewidth = 3, alpha = 0.3, \n",
    "    label='Surface pump flowrate')\n",
    "\n",
    "ax1.set_ylabel('Depth [m]')\n",
    "ax1.set_xlabel('Temp [degC]')\n",
    "\n",
    "ax2.set_xlabel('Time [hh:mm]')\n",
    "ax2.xaxis.set_major_formatter(mdates.DateFormatter('%H:%M'))\n",
    "\n",
    "ax3.set_ylabel('Flowrate [t/hr]')\n",
    "\n",
    "ax1.set_ylim(1000,0)\n",
    "ax1.set_xlim(0,200)\n",
    "\n",
    "for ax in [ax1, ax2]:\n",
    "    ax.grid()\n"
   ]
  },
  {
   "cell_type": "code",
   "execution_count": null,
   "metadata": {},
   "outputs": [],
   "source": [
    "from ipywidgets import interactive, Layout, FloatSlider\n",
    "\n",
    "min_timestamp = pts.timestamp.iloc[0]\n",
    "max_timestamp = pts.timestamp.iloc[-1]\n",
    "\n",
    "def subselect_plot(start_value, stop_value):\n",
    "    f,ax = plt.subplots(1,1, figsize = (20,6))\n",
    "    ax.plot(pts.timestamp, pts.depth_m, c = 'k')\n",
    "    ymin = pts.depth_m.min()\n",
    "    ymax = pts.depth_m.max() + 100\n",
    "    ax.vlines(start_value, ymin, ymax, color='tab:green')\n",
    "    ax.vlines(stop_value, ymin, ymax, color='tab:red')\n",
    "    ax.set_ylim(pts.depth_m.max() + 100, 0)\n",
    "\n",
    "result = interactive(subselect_plot,\n",
    "         \n",
    "         start_value = FloatSlider\n",
    "         (\n",
    "             value = (max_timestamp - min_timestamp)/3 + min_timestamp,\n",
    "             description = 'start',\n",
    "             min = min_timestamp, \n",
    "             max = max_timestamp, \n",
    "             step = 10, \n",
    "             continuous_update=True,\n",
    "             layout = Layout(width='80%'),\n",
    "             ),\n",
    "          \n",
    "          stop_value = FloatSlider\n",
    "          (\n",
    "             value = (max_timestamp - min_timestamp)/2 + min_timestamp, \n",
    "             description = 'stop',\n",
    "             min = min_timestamp, \n",
    "             max = max_timestamp, \n",
    "             step = 10, \n",
    "             continuous_update=True,\n",
    "             layout = Layout(width='80%')\n",
    "             )\n",
    ")\n",
    "\n",
    "display(result);\n",
    "\n",
    "# look into this for zoom https://towardsdatascience.com/how-to-produce-interactive-matplotlib-plots-in-jupyter-environment-1e4329d71651\n",
    "# donest look to be working with ipywidgets"
   ]
  },
  {
   "cell_type": "code",
   "execution_count": null,
   "metadata": {},
   "outputs": [],
   "source": [
    "print(\n",
    "    'start =',result.children[0].value, ' which is', datetime.fromtimestamp(result.children[0].value), \n",
    "    '\\n stop =', result.children[1].value, ' which is', datetime.fromtimestamp(result.children[1].value),\n",
    "    )"
   ]
  },
  {
   "cell_type": "markdown",
   "metadata": {},
   "source": [
    "### Some manual entry so the data selection is permanently recorded\n",
    "\n",
    "As part of making this process repeatable and so that we can easily audit an existing analysis, the method at this point forces us to copy past the timestamps above to define the start and stop points for splicing the dataframe. This could be done just by calling the result.childern\\[0\\].value and result.childern\\[1\\].value objects, but these will change every time the sliders in the interactive plot change."
   ]
  },
  {
   "cell_type": "code",
   "execution_count": null,
   "metadata": {},
   "outputs": [],
   "source": [
    "# copy-paste the start and stop timestamps and \n",
    "# create an informative title for the data\n",
    "\n",
    "start = 1607656164.448\n",
    "stop = 1607656534.448\n",
    "name = 'First heating run'\n",
    "\n",
    "pts_first_heating_run = pts[\n",
    "    (pts.datetime > datetime.fromtimestamp(start)) \n",
    "    & (pts.datetime < datetime.fromtimestamp(stop))\n",
    "]\n",
    "\n",
    "flowrate_first_heating_run = flowrate[\n",
    "    (flowrate.datetime > datetime.fromtimestamp(start)) \n",
    "    & (flowrate.datetime < datetime.fromtimestamp(stop))\n",
    "]"
   ]
  },
  {
   "cell_type": "code",
   "execution_count": null,
   "metadata": {},
   "outputs": [],
   "source": [
    "pts_first_heating_run.shape"
   ]
  },
  {
   "cell_type": "code",
   "execution_count": null,
   "metadata": {},
   "outputs": [],
   "source": [
    "overview_fig(pts_first_heating_run, flowrate_first_heating_run, title = name).show()"
   ]
  },
  {
   "cell_type": "code",
   "execution_count": null,
   "metadata": {},
   "outputs": [],
   "source": [
    "pts.columns"
   ]
  },
  {
   "source": [
    "## Import more temp data for comparison"
   ],
   "cell_type": "markdown",
   "metadata": {}
  },
  {
   "cell_type": "code",
   "execution_count": null,
   "metadata": {},
   "outputs": [],
   "source": [
    "heating_37days = pd.read_csv('Data-heating37days.csv')\n",
    "\n",
    "heating_37days['pressure_bara'] = heating_37days.pres_barg - 1\n",
    "\n",
    "heating_37days.head(2)"
   ]
  },
  {
   "cell_type": "code",
   "execution_count": null,
   "metadata": {},
   "outputs": [],
   "source": [
    "import matplotlib.pyplot as plt \n",
    "import matplotlib.dates as mdates\n",
    "\n",
    "fig, (ax1, ax2) = plt.subplots(1, 2,figsize=(10,10),sharey=True)\n",
    "\n",
    "ax1.scatter(pts.temp_degC, pts.depth_m, c = pts.timestamp, s = 5, linewidths = 0)\n",
    "ax1.plot(pts_first_heating_run.temp_degC, pts_first_heating_run.depth_m, color = 'k', linestyle = ':')\n",
    "ax1.set_title('Completion test temperature logs')\n",
    "\n",
    "ax2.plot(pts_first_heating_run.temp_degC, pts_first_heating_run.depth_m, c='k', label = 'Heating 0 days - temperature')\n",
    "ax2.plot(heating_37days.temp_degC, heating_37days.depth_m, c='r', label = 'Heating 37 days - temperature')\n",
    "\n",
    "ax2.plot(pts_first_heating_run.pressure_bara, pts_first_heating_run.depth_m, ':', c='k', label = 'Heating 0 days - pressure')\n",
    "ax2.plot(heating_37days.pressure_bara, heating_37days.depth_m, ':', c='r', label = 'Heating 37 days - pressure')\n",
    "\n",
    "ax2.set_title('Heating temperature logs')\n",
    "ax2.legend()\n",
    "ax2.set_xlim(0,300)\n",
    "\n",
    "ax1.set_ylim(1000,0)\n",
    "ax1.set_ylabel('Depth [m]')\n",
    "ax1.set_xlim(0,200)\n",
    "\n",
    "for ax in [ax1,ax2]:\n",
    "    ax.set_xlabel('Temp [degC]')\n",
    "    ax.grid()\n"
   ]
  },
  {
   "cell_type": "code",
   "execution_count": null,
   "metadata": {},
   "outputs": [],
   "source": [
    "# Add the visual representation of the caseing to these plots and the other by-depth plots\n",
    "# add a fully heated T log (data is depth/temp/press, no time required) ... add pivot to the II introduction where we are talking about pressures ... say it is different in geothermal \n",
    "# add a BPD curve\n",
    "# put pressure on a twinned x axis\n",
    "# change pressure to a dashed line\n",
    "# find a nicer colour for the stable temp run\n",
    "\n",
    "PCS = 462.5 # mMD CHF, 13 3/8 production casing to surface\n",
    "oh_liner = 10.75 # liner \n",
    "tol = 425 # mMD CHF\n"
   ]
  },
  {
   "cell_type": "markdown",
   "metadata": {},
   "source": [
    "***\n",
    "\n",
    "<p><center>© 2021 <a href=\"https://www.cubicearth.nz/\">Irene Wallis</a> and <a href=\"https://www.linkedin.com/in/katie-mclean-25994315/\">Katie McLean</a> <a href=\"https://creativecommons.org/licenses/by/4.0/\"</a></center></p>\n",
    "\n",
    "<p><center>Licensed under the Apache License, Version 2.0 (the \"License\");\n",
    "you may not use this file except in compliance with the License.\n",
    "You may obtain a copy of the License at <a href=\"http://www.apache.org/licenses/LICENSE-2.0\">http://www.apache.org/licenses/LICENSE-2.0</a></center></p>\n",
    "\n",
    "<p><center>Unless required by applicable law or agreed to in writing, software\n",
    "distributed under the License is distributed on an \"AS IS\" BASIS,\n",
    "WITHOUT WARRANTIES OR CONDITIONS OF ANY KIND, either express or implied.\n",
    "See the License for the specific language governing permissions and\n",
    "limitations under the License.</center></p>\n",
    "\n",
    "***"
   ]
  },
  {
   "cell_type": "code",
   "execution_count": null,
   "metadata": {},
   "outputs": [],
   "source": []
  }
 ],
 "metadata": {
  "kernelspec": {
   "name": "python379jvsc74a57bd05f84944cbdf6ff6ac2afcd6c74dedc022d84e7a25a2c0cfdb88f6f712510a150",
   "display_name": "Python 3.7.9 64-bit ('geothrm': conda)"
  },
  "language_info": {
   "codemirror_mode": {
    "name": "ipython",
    "version": 3
   },
   "file_extension": ".py",
   "mimetype": "text/x-python",
   "name": "python",
   "nbconvert_exporter": "python",
   "pygments_lexer": "ipython3",
   "version": "3.7.9"
  }
 },
 "nbformat": 4,
 "nbformat_minor": 4
}