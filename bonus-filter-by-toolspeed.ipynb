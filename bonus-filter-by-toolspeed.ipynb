{
 "metadata": {
  "language_info": {
   "codemirror_mode": {
    "name": "ipython",
    "version": 3
   },
   "file_extension": ".py",
   "mimetype": "text/x-python",
   "name": "python",
   "nbconvert_exporter": "python",
   "pygments_lexer": "ipython3",
   "version": "3.7.9"
  },
  "orig_nbformat": 2,
  "kernelspec": {
   "name": "python379jvsc74a57bd05f84944cbdf6ff6ac2afcd6c74dedc022d84e7a25a2c0cfdb88f6f712510a150",
   "display_name": "Python 3.7.9 64-bit ('geothrm': conda)"
  }
 },
 "nbformat": 4,
 "nbformat_minor": 2,
 "cells": [
  {
   "source": [
    "# Remove data aquired when the tool is stationary or slowing\n",
    "\n",
    "This step is used in 2-temperature.ipynb and 4-feedzones.ipynb"
   ],
   "cell_type": "markdown",
   "metadata": {}
  },
  {
   "cell_type": "code",
   "execution_count": null,
   "metadata": {},
   "outputs": [],
   "source": [
    "import pandas as pd\n",
    "from utilities import* # functions in the utilities.py file"
   ]
  },
  {
   "cell_type": "code",
   "execution_count": null,
   "metadata": {},
   "outputs": [],
   "source": [
    "flowrate = read_flowrate(r'Data-FlowRate.xlsx')\n",
    "pts = read_pts(r'Data-PTS.xlsx')"
   ]
  },
  {
   "source": [
    "Look at the spinner data plotted below and note where there is noise at the top, bottom and ~750 mMD because the tool is not moving or is moving at a slower pace. \n",
    "\n",
    "We need to clean these from the data to do the spinner analysis."
   ],
   "cell_type": "markdown",
   "metadata": {}
  },
  {
   "cell_type": "code",
   "execution_count": null,
   "metadata": {},
   "outputs": [],
   "source": [
    "fig, (ax1, ax2) = plt.subplots(1, 2,figsize=(24,8),sharey=True)\n",
    "\n",
    "ax1.scatter(pts.frequency_hz, pts.depth_m, c = pts.timestamp, s = 5, linewidths = 0)\n",
    "ax2.scatter(pts.datetime, pts.depth_m, c = pts.timestamp, s = 5, linewidths = 0)\n",
    "\n",
    "ax3 = ax2.twinx()\n",
    "ax3.plot(flowrate.datetime, flowrate.flow_tph, \n",
    "    c='k', linestyle = '-', linewidth = 3, alpha = 0.3, \n",
    "    label='Surface pump flowrate')\n",
    "\n",
    "ax1.set_ylim(1000,0)\n",
    "ax1.set_xlim(-30,30)\n",
    "\n",
    "ax1.set_ylabel('Depth [m]')\n",
    "ax1.set_xlabel('Spinner frequency [hz]')\n",
    "\n",
    "ax2.set_xlabel('Time [hh:mm]')\n",
    "ax2.xaxis.set_major_formatter(mdates.DateFormatter('%H:%M'))\n",
    "\n",
    "ax3.set_ylabel('Flowrate [t/hr]')\n",
    "\n",
    "for ax in [ax1, ax2]:\n",
    "    ax.grid()"
   ]
  },
  {
   "source": [
    "\n",
    "\n",
    "## Decide on a speed limit for the filer\n",
    "\n",
    "We can use descriptive and plotting tools that are built into Pandas to understand the data"
   ],
   "cell_type": "markdown",
   "metadata": {}
  },
  {
   "cell_type": "code",
   "execution_count": null,
   "metadata": {},
   "outputs": [],
   "source": [
    "pts.describe()"
   ]
  },
  {
   "cell_type": "code",
   "execution_count": null,
   "metadata": {},
   "outputs": [],
   "source": [
    "pts['speed_mps'].hist(bins=30)"
   ]
  },
  {
   "source": [
    "## Explore the data at various scales using a plot\n",
    "\n",
    "Because we will use this filter on the temperature and spinner data, we want to remove both the stationary data and the data acquired as the tool slows down before it stops.\n",
    "\n",
    "We use the matplotlib plot below to zoom into the data and decide on a reasonable cut-off value, which looks to be 0.05 m/s.\n",
    "\n",
    "Hint: Explore the data by changing the y axis limits: ax1.set_ylim(-0.05,0.05)"
   ],
   "cell_type": "markdown",
   "metadata": {}
  },
  {
   "cell_type": "code",
   "execution_count": null,
   "metadata": {},
   "outputs": [],
   "source": [
    "import matplotlib.pyplot as plt\n",
    "import matplotlib.dates as mdates\n",
    "\n",
    "fig, (ax) = plt.subplots(1, 1,figsize=(12,6))\n",
    "\n",
    "ax.set_title('All Data')\n",
    "\n",
    "ax.scatter(pts.datetime, pts.speed_mps, s = 3, c='k', linewidths = 0)\n",
    "\n",
    "ax.xaxis.set_major_formatter(mdates.DateFormatter('%H:%M'))\n",
    "ax.set_xlabel('Time [hh:mm]')\n",
    "\n",
    "ax.set_ylabel('Tool speed [m/sec]')\n",
    "\n",
    "#ax.set_ylim(-0.2,0.2)\n",
    "\n",
    ";"
   ]
  },
  {
   "cell_type": "code",
   "execution_count": null,
   "metadata": {},
   "outputs": [],
   "source": [
    "fig, (ax1, ax2) = plt.subplots(1, 2,figsize=(28,8))\n",
    "\n",
    "#ax1.plot(pts.datetime, pts.frequency_hz, c='k', linestyle = '-', linewidth = 1, alpha = 0.3)\n",
    "ax1.scatter(pts.datetime, pts.frequency_hz, c = pts.timestamp, s = 5, linewidths = 0)\n",
    "ax2.scatter(pts.datetime, pts.depth_m, c = pts.timestamp, s = 5, linewidths = 0)\n",
    "\n",
    "ax3 = ax2.twinx()\n",
    "ax3.plot(flowrate.datetime, flowrate.flow_tph, \n",
    "    c='k', linestyle = '-', linewidth = 3, alpha = 0.3, \n",
    "    label='Surface pump flowrate')\n",
    "\n",
    "ax4 = ax1.twinx()\n",
    "ax4.plot(pts.datetime, pts.depth_m, \n",
    "    c='k', linestyle = '-', linewidth = 2, alpha = 0.3, \n",
    "    label='Tool depth [m]')\n",
    "ax4.set_ylim(1000,-1000)\n",
    "ax4.set_ylabel('Tool depth [m]')\n",
    "\n",
    "ax1.set_ylim(-30,30)\n",
    "ax1.set_ylabel('Spinner frequency [hz]')\n",
    "\n",
    "ax2.set_ylim(1000,0)\n",
    "ax2.set_ylabel('Tool depth [m/s]')\n",
    "\n",
    "for ax in [ax1,ax2]:\n",
    "    ax.set_xlabel('Time [hh:mm]')\n",
    "    ax.xaxis.set_major_formatter(mdates.DateFormatter('%H:%M'))\n",
    "\n",
    "ax3.set_ylabel('Flowrate [t/hr]')\n",
    "\n",
    "for ax in [ax1, ax2]:\n",
    "    ax.grid()\n",
    "\n",
    "#\n",
    "# Limit to a time range\n",
    "#\n",
    "\n",
    "start_time = pd.to_datetime('2020-12-11 09:30:00')\n",
    "end_time = pd.to_datetime('2020-12-11 10:30:00')\n",
    "\n",
    "ax1.set_xlim(start_time,end_time)\n",
    "ax4.set_ylim(1000,400);"
   ]
  },
  {
   "source": [
    "## Use a boolean expression to select only the desired data\n",
    "\n",
    "We decided that, in this case, data acquired when the tool is moving down the well at > 0.9 m/s is fast enough to be included. Remember that the sign indicates the direction that a tool is moving inside the well and is not an actual -ve speed.  \n",
    "\n",
    "Our new working dataframe is called moving_pts"
   ],
   "cell_type": "markdown",
   "metadata": {}
  },
  {
   "cell_type": "code",
   "execution_count": null,
   "metadata": {},
   "outputs": [],
   "source": [
    "moving_pts = pts[\n",
    "    (pts.speed_mps > 0.9 ) & (pts.speed_mps < pts.speed_mps.max()) | \n",
    "    (pts.speed_mps > pts.speed_mps.min() ) & (pts.speed_mps < -0.9)\n",
    "    ]"
   ]
  },
  {
   "cell_type": "code",
   "execution_count": null,
   "metadata": {},
   "outputs": [],
   "source": [
    "moving_pts.shape"
   ]
  },
  {
   "cell_type": "code",
   "execution_count": null,
   "metadata": {},
   "outputs": [],
   "source": [
    "fig, (ax) = plt.subplots(1, 1,figsize=(12,6))\n",
    "\n",
    "ax.set_title('Data Acquired while the Tool is Moving')\n",
    "\n",
    "ax.scatter(moving_pts.datetime, moving_pts.speed_mps, s = 3, c='k', linewidths = 0)\n",
    "\n",
    "ax.xaxis.set_major_formatter(mdates.DateFormatter('%H:%M'))\n",
    "ax.set_xlabel('Time [hh:mm]')\n",
    "\n",
    "ax.set_ylabel('Tool speed [m/sec]')\n",
    "\n",
    "#ax.set_ylim(-0.5,0.5)\n",
    "\n",
    ";"
   ]
  },
  {
   "cell_type": "code",
   "execution_count": null,
   "metadata": {},
   "outputs": [],
   "source": [
    "fig, (ax1, ax2) = plt.subplots(1, 2,figsize=(28,8))\n",
    "\n",
    "ax1.scatter(moving_pts.datetime, moving_pts.frequency_hz, c = moving_pts.timestamp, s = 5, linewidths = 0)\n",
    "ax2.scatter(moving_pts.datetime, moving_pts.depth_m, c = moving_pts.timestamp, s = 5, linewidths = 0)\n",
    "\n",
    "ax3 = ax2.twinx()\n",
    "ax3.plot(flowrate.datetime, flowrate.flow_tph, \n",
    "    c='k', linestyle = '-', linewidth = 3, alpha = 0.3, \n",
    "    label='Surface pump flowrate')\n",
    "\n",
    "ax4 = ax1.twinx()\n",
    "ax4.plot(pts.datetime, pts.depth_m, \n",
    "    c='k', linestyle = '-', linewidth = 2, alpha = 0.3, \n",
    "    label='Tool depth [m]')\n",
    "ax4.set_ylim(1000,400)\n",
    "ax4.set_ylabel('Tool depth [m]')\n",
    "\n",
    "ax1.set_ylim(-30,30)\n",
    "ax1.set_ylabel('Spinner frequency [hz]')\n",
    "\n",
    "ax2.set_ylim(1000,0)\n",
    "ax2.set_ylabel('Tool depth [m]')\n",
    "\n",
    "for ax in [ax1,ax2]:\n",
    "    ax.set_xlabel('Time [hh:mm]')\n",
    "    ax.xaxis.set_major_formatter(mdates.DateFormatter('%H:%M:%S'))\n",
    "\n",
    "ax3.set_ylabel('Flowrate [t/hr]')\n",
    "\n",
    "for ax in [ax1, ax2]:\n",
    "    ax.grid()\n",
    "\n",
    "#\n",
    "# Limit to a time range\n",
    "#\n",
    "\n",
    "start_time = pd.to_datetime('2020-12-11 14:30:00')\n",
    "end_time = pd.to_datetime('2020-12-11 15:30:00')\n",
    "\n",
    "ax1.set_xlim(start_time,end_time);"
   ]
  },
  {
   "source": [
    "# Remove data from inside the casing\n",
    "\n"
   ],
   "cell_type": "markdown",
   "metadata": {}
  },
  {
   "cell_type": "code",
   "execution_count": null,
   "metadata": {},
   "outputs": [],
   "source": [
    "production_shoe = 462.5  \n",
    "\n",
    "depth_filtered = moving_pts[(moving_pts.depth_m < moving_pts.depth_m.max()) & (moving_pts.depth_m > production_shoe)]\n",
    "\n",
    "depth_filtered.describe()"
   ]
  },
  {
   "source": [
    "## Plot the cleaned data\n",
    "\n",
    "Now we have two Boolean statements that we can use to filter this PTS dataset down to only the by-depth data that we want for the spinner analysis. \n",
    "\n",
    "There are still a few stray data points that missed by this simple approach. We plan to develop something a little more elegant to clean these data fully, but this approach is near enough for most purposes. "
   ],
   "cell_type": "markdown",
   "metadata": {}
  },
  {
   "cell_type": "code",
   "execution_count": null,
   "metadata": {},
   "outputs": [],
   "source": [
    "fig, (ax1, ax2) = plt.subplots(1, 2,figsize=(24,8),sharey=True)\n",
    "\n",
    "ax1.set_title('All data')\n",
    "ax1.scatter(pts.frequency_hz, pts.depth_m, c = pts.timestamp, s = 5, linewidths = 0)\n",
    "\n",
    "ax2.set_title('Filtered data')\n",
    "ax2.scatter(depth_filtered.frequency_hz, depth_filtered.depth_m, c = depth_filtered.timestamp, s = 5, linewidths = 0)\n",
    "\n",
    "ax1.set_ylabel('Depth [m]')\n",
    "\n",
    "for ax in [ax1,ax2]:\n",
    "    ax.set_ylim(1000,0)\n",
    "    ax.set_xlim(-30,30)\n",
    "    ax.set_xlabel('Spinner frequency [hz]')\n",
    "    ax.grid();"
   ]
  },
  {
   "cell_type": "code",
   "execution_count": null,
   "metadata": {},
   "outputs": [],
   "source": []
  }
 ]
}