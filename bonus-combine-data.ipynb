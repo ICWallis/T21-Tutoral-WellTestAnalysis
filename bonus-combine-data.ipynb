{
 "metadata": {
  "language_info": {
   "codemirror_mode": {
    "name": "ipython",
    "version": 3
   },
   "file_extension": ".py",
   "mimetype": "text/x-python",
   "name": "python",
   "nbconvert_exporter": "python",
   "pygments_lexer": "ipython3",
   "version": "3.7.9"
  },
  "orig_nbformat": 2,
  "kernelspec": {
   "name": "python379jvsc74a57bd05f84944cbdf6ff6ac2afcd6c74dedc022d84e7a25a2c0cfdb88f6f712510a150",
   "display_name": "Python 3.7.9 64-bit ('geothrm': conda)"
  }
 },
 "nbformat": 4,
 "nbformat_minor": 2,
 "cells": [
  {
   "cell_type": "code",
   "execution_count": null,
   "metadata": {},
   "outputs": [],
   "source": [
    "import pandas as pd\n",
    "import matplotlib.pyplot as plt\n",
    "import matplotlib.dates as mdates\n",
    "from utilities import* # functions in the utilities.py file"
   ]
  },
  {
   "cell_type": "code",
   "execution_count": null,
   "metadata": {},
   "outputs": [],
   "source": [
    "flowrate = read_flowrate(r'Data-FlowRate.xlsx')\n",
    "pts = read_pts(r'Data-PTS.xlsx')"
   ]
  },
  {
   "cell_type": "code",
   "execution_count": null,
   "metadata": {},
   "outputs": [],
   "source": [
    "flowrate.columns"
   ]
  },
  {
   "cell_type": "code",
   "execution_count": null,
   "metadata": {},
   "outputs": [],
   "source": [
    "flowrate = flowrate.set_index('timestamp')\n",
    "flowrate.head(3)"
   ]
  },
  {
   "cell_type": "code",
   "execution_count": null,
   "metadata": {},
   "outputs": [],
   "source": [
    "pts = pts.set_index('timestamp')\n",
    "pts.head(3)"
   ]
  },
  {
   "cell_type": "code",
   "execution_count": null,
   "metadata": {},
   "outputs": [],
   "source": [
    "combined = pts.join(flowrate, how = 'outer',  lsuffix = '_pts', rsuffix = '_fr', )"
   ]
  },
  {
   "cell_type": "code",
   "execution_count": null,
   "metadata": {},
   "outputs": [],
   "source": [
    "combined.columns"
   ]
  },
  {
   "cell_type": "code",
   "execution_count": null,
   "metadata": {},
   "outputs": [],
   "source": [
    "combined.head(3)"
   ]
  },
  {
   "cell_type": "code",
   "execution_count": null,
   "metadata": {},
   "outputs": [],
   "source": [
    "combined.drop(columns = ['datetime_fr'], inplace = True)"
   ]
  },
  {
   "cell_type": "code",
   "execution_count": null,
   "metadata": {},
   "outputs": [],
   "source": [
    "combined.columns"
   ]
  },
  {
   "cell_type": "code",
   "execution_count": null,
   "metadata": {},
   "outputs": [],
   "source": [
    "combined.columns = ['depth_m', 'speed_mps', 'cweight_kg', 'whp_barg', 'temp_degC',\n",
    "       'pressure_bara', 'frequency_hz', 'datetime', 'flow_tph']"
   ]
  },
  {
   "cell_type": "code",
   "execution_count": null,
   "metadata": {},
   "outputs": [],
   "source": [
    "combined.columns"
   ]
  },
  {
   "cell_type": "code",
   "execution_count": null,
   "metadata": {},
   "outputs": [],
   "source": [
    "combined.describe()"
   ]
  },
  {
   "cell_type": "code",
   "execution_count": null,
   "metadata": {},
   "outputs": [],
   "source": [
    "combined['flow_tph'].isna().sum()"
   ]
  },
  {
   "cell_type": "code",
   "execution_count": null,
   "metadata": {},
   "outputs": [],
   "source": [
    "combined['new_flow_tph'] = combined['flow_tph'].interpolate(method='linear')"
   ]
  },
  {
   "cell_type": "code",
   "execution_count": null,
   "metadata": {},
   "outputs": [],
   "source": [
    "combined['new_flow_tph'].isna().sum()"
   ]
  },
  {
   "cell_type": "code",
   "execution_count": null,
   "metadata": {},
   "outputs": [],
   "source": [
    "combined.tail()"
   ]
  },
  {
   "cell_type": "code",
   "execution_count": null,
   "metadata": {},
   "outputs": [],
   "source": [
    "fig, (ax) = plt.subplots(1, 1, figsize=(24,8))\n",
    "\n",
    "ax.scatter(combined.datetime, combined.new_flow_tph, \n",
    "    c='k', s = 5, linewidths = 0)\n",
    "\n",
    "ax.scatter(combined.datetime, combined.flow_tph, \n",
    "    c='r', s = 30, linewidths = 0)\n",
    "\n",
    "ax.scatter(pts.datetime, pts.cweight_kg, \n",
    "    c='b', s = 5, linewidths = 0, label = 'Raw cabel weight')\n",
    "\n",
    "ax.scatter(remaining_nan.datetime, remaining_nan.cweight_kg, \n",
    "    c='g', s = 30, linewidths = 0, label = 'NAN cabel weight')\n",
    "\n",
    "ax.set_ylim(0,150)\n",
    "\n",
    "ax.set_xlabel('Time [hh:mm]')\n",
    "ax.xaxis.set_major_formatter(mdates.DateFormatter('%H:%M'))\n",
    "\n",
    "\n",
    "start_time = pd.to_datetime('2020-12-11 09:25:00')\n",
    "end_time = pd.to_datetime('2020-12-11 09:30:00')\n",
    "\n",
    "#ax.set_xlim(start_time,end_time);"
   ]
  },
  {
   "source": [
    "As the plot and the remaining_nan.describe() show that I have filled all the PTS values with flow rates, I will now drop the flow values that have no pts value"
   ],
   "cell_type": "markdown",
   "metadata": {}
  },
  {
   "cell_type": "code",
   "execution_count": null,
   "metadata": {},
   "outputs": [],
   "source": [
    "nan_trimmed = combined.dropna()\n",
    "\n",
    "nan_trimmed = combined[combined['depth_m'].notna()]\n"
   ]
  },
  {
   "cell_type": "code",
   "execution_count": null,
   "metadata": {},
   "outputs": [],
   "source": [
    "nan_trimmed.shape "
   ]
  },
  {
   "cell_type": "code",
   "execution_count": null,
   "metadata": {},
   "outputs": [],
   "source": [
    "combined.shape"
   ]
  },
  {
   "cell_type": "code",
   "execution_count": null,
   "metadata": {},
   "outputs": [],
   "source": [
    "nan_trimmed.reset_index(inplace=True)"
   ]
  },
  {
   "cell_type": "code",
   "execution_count": null,
   "metadata": {},
   "outputs": [],
   "source": [
    "nan_trimmed.head(2)"
   ]
  },
  {
   "cell_type": "code",
   "execution_count": null,
   "metadata": {},
   "outputs": [],
   "source": []
  },
  {
   "cell_type": "code",
   "execution_count": null,
   "metadata": {},
   "outputs": [],
   "source": [
    "fig, (ax) = plt.subplots(1, 1, figsize=(24,8))\n",
    "\n",
    "ax.scatter(combined.datetime, combined.new_flow_tph, \n",
    "    c='k', s = 5, linewidths = 0)\n",
    "\n",
    "ax.scatter(combined.datetime, combined.flow_tph, \n",
    "    c='r', s = 30, linewidths = 0)\n",
    "\n",
    "ax.scatter(pts.datetime, pts.cweight_kg, \n",
    "    c='b', s = 5, linewidths = 0, label = 'Raw cabel weight')\n",
    "\n",
    "ax.scatter(nan_trimmed.datetime, nan_trimmed.cweight_kg, \n",
    "    c='g', s = 30, linewidths = 0, label = 'NAN cabel weight')\n",
    "\n",
    "ax.set_ylim(0,150)\n",
    "\n",
    "ax.set_xlabel('Time [hh:mm]')\n",
    "ax.xaxis.set_major_formatter(mdates.DateFormatter('%H:%M'))\n",
    "\n",
    "\n",
    "start_time = pd.to_datetime('2020-12-11 09:25:00')\n",
    "end_time = pd.to_datetime('2020-12-11 09:30:00')\n",
    "\n",
    "#ax.set_xlim(start_time,end_time);"
   ]
  },
  {
   "cell_type": "code",
   "execution_count": null,
   "metadata": {},
   "outputs": [],
   "source": [
    "# turning the method into a function\n",
    "\n",
    "flowrate_f = read_flowrate(r'Data-FlowRate.xlsx')\n",
    "pts_f = read_pts(r'Data-PTS.xlsx')"
   ]
  },
  {
   "cell_type": "code",
   "execution_count": null,
   "metadata": {},
   "outputs": [],
   "source": [
    "def append_flowrate_to_pts(flowrate_df, pts_df):\n",
    "    '''\n",
    "    Add surface flowrate to pts data\n",
    "\n",
    "    Note that the flowrate data is recorded at a courser time resolution than the pts data\n",
    "    The function makes a linear interpolation to fill the data gaps\n",
    "    Refer to bonus-combine-data.ipynb to review this method and adapt it for your own data\n",
    "\n",
    "    Args:   flowrate and pts dataframes generated by the read_flowrate and read_pts functions\n",
    "\n",
    "    Returns: pts dataframe with flowrate tph added\n",
    "    '''\n",
    "    flowrate_df = flowrate_df.set_index('timestamp')\n",
    "    pts_df = pts_df.set_index('timestamp')\n",
    "    combined_df = pts_df.join(flowrate_df, how = 'outer',  lsuffix = '_pts', rsuffix = '_fr')\n",
    "    combined_df.drop(columns = ['datetime_fr'], inplace = True)\n",
    "    combined_df.columns = ['depth_m', 'speed_mps', 'cweight_kg', 'whp_barg', 'temp_degC',\n",
    "       'pressure_bara', 'frequency_hz', 'datetime', 'flow_tph']\n",
    "    combined_df['interpolated_flow_tph'] = combined_df['flow_tph'].interpolate(method='linear')\n",
    "    trimmed_df = combined_df[combined_df['depth_m'].notna()]\n",
    "    trimmed_df.reset_index(inplace=True)\n",
    "    return trimmed_df\n",
    "\n",
    "mudged_df = append_flowrate_to_pts(flowrate_f, pts_f)"
   ]
  },
  {
   "cell_type": "code",
   "execution_count": null,
   "metadata": {},
   "outputs": [],
   "source": [
    "mudged_df.shape"
   ]
  },
  {
   "cell_type": "code",
   "execution_count": null,
   "metadata": {},
   "outputs": [],
   "source": [
    "mudged_df.head()"
   ]
  },
  {
   "cell_type": "code",
   "execution_count": null,
   "metadata": {},
   "outputs": [],
   "source": []
  }
 ]
}