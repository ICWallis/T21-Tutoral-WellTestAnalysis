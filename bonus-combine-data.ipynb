{
 "cells": [
  {
   "cell_type": "markdown",
   "metadata": {
    "iooxa": {
     "id": {
      "block": "wUFcCPb85Y5NTvEDOreS",
      "project": "mmReuqVTAa9JzPpNr22I",
      "version": 1
     }
    }
   },
   "source": [
    "***\n",
    "\n",
    "# Geothermal Well Test Analysis with Python\n",
    "### Bonus material: Combine PTS and pump flow rate data\n",
    "#### Irene Wallis and Katie McLean \n",
    "#### Software Underground, Transform 2021\n",
    "\n",
    "***"
   ]
  },
  {
   "cell_type": "code",
   "execution_count": null,
   "metadata": {
    "iooxa": {
     "id": {
      "block": "H7awF9Z0d62cuLrMu6dr",
      "project": "mmReuqVTAa9JzPpNr22I",
      "version": 1
     },
     "outputId": null
    }
   },
   "outputs": [],
   "source": [
    "import pandas as pd\n",
    "import matplotlib.pyplot as plt\n",
    "import matplotlib.dates as mdates\n",
    "from utilities import* # functions in the utilities.py file"
   ]
  },
  {
   "cell_type": "code",
   "execution_count": null,
   "metadata": {
    "iooxa": {
     "id": {
      "block": "RVwCyhNC72F630z843N1",
      "project": "mmReuqVTAa9JzPpNr22I",
      "version": 1
     },
     "outputId": null
    },
    "tags": []
   },
   "outputs": [],
   "source": [
    "flowrate = read_flowrate(r'Data-FlowRate.xlsx')\n",
    "pts = read_pts(r'Data-PTS.xlsx')"
   ]
  },
  {
   "cell_type": "code",
   "execution_count": null,
   "metadata": {
    "iooxa": {
     "id": {
      "block": "WDajMKHXZ57KYRTDtnnw",
      "project": "mmReuqVTAa9JzPpNr22I",
      "version": 1
     },
     "outputId": null
    }
   },
   "outputs": [],
   "source": [
    "flowrate.columns"
   ]
  },
  {
   "cell_type": "code",
   "execution_count": null,
   "metadata": {
    "iooxa": {
     "id": {
      "block": "6Lem3ULLT74NWhsTbW2D",
      "project": "mmReuqVTAa9JzPpNr22I",
      "version": 1
     },
     "outputId": null
    }
   },
   "outputs": [],
   "source": [
    "flowrate = flowrate.set_index('timestamp')\n",
    "flowrate.head(3)"
   ]
  },
  {
   "cell_type": "code",
   "execution_count": null,
   "metadata": {
    "iooxa": {
     "id": {
      "block": "pRY08VPzKQ4uHERkL9es",
      "project": "mmReuqVTAa9JzPpNr22I",
      "version": 1
     },
     "outputId": null
    }
   },
   "outputs": [],
   "source": [
    "pts = pts.set_index('timestamp')\n",
    "pts.head(3)"
   ]
  },
  {
   "cell_type": "code",
   "execution_count": null,
   "metadata": {
    "iooxa": {
     "id": {
      "block": "3VMCxPrHADDYNbiu2zKR",
      "project": "mmReuqVTAa9JzPpNr22I",
      "version": 1
     },
     "outputId": null
    }
   },
   "outputs": [],
   "source": [
    "combined = pts.join(flowrate, how = 'outer',  lsuffix = '_pts', rsuffix = '_fr', )"
   ]
  },
  {
   "cell_type": "code",
   "execution_count": null,
   "metadata": {
    "iooxa": {
     "id": {
      "block": "1wal7NRqmZm3pSihXbHk",
      "project": "mmReuqVTAa9JzPpNr22I",
      "version": 1
     },
     "outputId": null
    }
   },
   "outputs": [],
   "source": [
    "combined.columns"
   ]
  },
  {
   "cell_type": "code",
   "execution_count": null,
   "metadata": {
    "iooxa": {
     "id": {
      "block": "cG9tfyOR33pM4IKIq41v",
      "project": "mmReuqVTAa9JzPpNr22I",
      "version": 1
     },
     "outputId": null
    }
   },
   "outputs": [],
   "source": [
    "combined.head(3)"
   ]
  },
  {
   "cell_type": "code",
   "execution_count": null,
   "metadata": {
    "iooxa": {
     "id": {
      "block": "fiaeF2o06lNDtplRlFCG",
      "project": "mmReuqVTAa9JzPpNr22I",
      "version": 1
     },
     "outputId": null
    }
   },
   "outputs": [],
   "source": [
    "combined.drop(columns = ['datetime_fr'], inplace = True)"
   ]
  },
  {
   "cell_type": "code",
   "execution_count": null,
   "metadata": {
    "iooxa": {
     "id": {
      "block": "9YYMdBYV3tT0YKbddzTY",
      "project": "mmReuqVTAa9JzPpNr22I",
      "version": 1
     },
     "outputId": null
    }
   },
   "outputs": [],
   "source": [
    "combined.columns"
   ]
  },
  {
   "cell_type": "code",
   "execution_count": null,
   "metadata": {
    "iooxa": {
     "id": {
      "block": "0W2UP8ceIf5LjDbDHHR1",
      "project": "mmReuqVTAa9JzPpNr22I",
      "version": 1
     },
     "outputId": null
    }
   },
   "outputs": [],
   "source": [
    "combined.columns = ['depth_m', 'speed_mps', 'cweight_kg', 'whp_barg', 'temp_degC',\n",
    "       'pressure_bara', 'frequency_hz', 'datetime', 'flow_tph']"
   ]
  },
  {
   "cell_type": "code",
   "execution_count": null,
   "metadata": {
    "iooxa": {
     "id": {
      "block": "XcTnMkWP7RlshjC5g4TP",
      "project": "mmReuqVTAa9JzPpNr22I",
      "version": 1
     },
     "outputId": null
    }
   },
   "outputs": [],
   "source": [
    "combined.columns"
   ]
  },
  {
   "cell_type": "code",
   "execution_count": null,
   "metadata": {
    "iooxa": {
     "id": {
      "block": "BOaXuiVjf8IVfv7ZhMPj",
      "project": "mmReuqVTAa9JzPpNr22I",
      "version": 1
     },
     "outputId": null
    }
   },
   "outputs": [],
   "source": [
    "combined.describe()"
   ]
  },
  {
   "cell_type": "code",
   "execution_count": null,
   "metadata": {
    "iooxa": {
     "id": {
      "block": "ujWpWcyMhdMKiPoJKSZ5",
      "project": "mmReuqVTAa9JzPpNr22I",
      "version": 1
     },
     "outputId": null
    }
   },
   "outputs": [],
   "source": [
    "combined['flow_tph'].isna().sum()"
   ]
  },
  {
   "cell_type": "code",
   "execution_count": null,
   "metadata": {
    "iooxa": {
     "id": {
      "block": "bTbUnJF8AqzEmB67G8gi",
      "project": "mmReuqVTAa9JzPpNr22I",
      "version": 1
     },
     "outputId": null
    }
   },
   "outputs": [],
   "source": [
    "combined['new_flow_tph'] = combined['flow_tph'].interpolate(method='linear')"
   ]
  },
  {
   "cell_type": "code",
   "execution_count": null,
   "metadata": {
    "iooxa": {
     "id": {
      "block": "CxoYfuWE73HYQYE9Spgp",
      "project": "mmReuqVTAa9JzPpNr22I",
      "version": 1
     },
     "outputId": null
    }
   },
   "outputs": [],
   "source": [
    "combined['new_flow_tph'].isna().sum()"
   ]
  },
  {
   "cell_type": "code",
   "execution_count": null,
   "metadata": {
    "iooxa": {
     "id": {
      "block": "aHqKKTZBprw7DlZju790",
      "project": "mmReuqVTAa9JzPpNr22I",
      "version": 1
     },
     "outputId": null
    }
   },
   "outputs": [],
   "source": [
    "combined.tail()"
   ]
  },
  {
   "cell_type": "code",
   "execution_count": null,
   "metadata": {
    "iooxa": {
     "id": {
      "block": "vbp1plx87vU2dGk26vZy",
      "project": "mmReuqVTAa9JzPpNr22I",
      "version": 1
     },
     "outputId": null
    }
   },
   "outputs": [],
   "source": [
    "fig, (ax) = plt.subplots(1, 1, figsize=(24,8))\n",
    "\n",
    "ax.scatter(combined.datetime, combined.new_flow_tph, \n",
    "    c='k', s = 5, linewidths = 0)\n",
    "\n",
    "ax.scatter(combined.datetime, combined.flow_tph, \n",
    "    c='r', s = 30, linewidths = 0)\n",
    "\n",
    "ax.scatter(pts.datetime, pts.cweight_kg, \n",
    "    c='b', s = 5, linewidths = 0, label = 'Raw cabel weight')\n",
    "\n",
    "ax.scatter(remaining_nan.datetime, remaining_nan.cweight_kg, \n",
    "    c='g', s = 30, linewidths = 0, label = 'NAN cabel weight')\n",
    "\n",
    "ax.set_ylim(0,150)\n",
    "\n",
    "ax.set_xlabel('Time [hh:mm]')\n",
    "ax.xaxis.set_major_formatter(mdates.DateFormatter('%H:%M'))\n",
    "\n",
    "\n",
    "start_time = pd.to_datetime('2020-12-11 09:25:00')\n",
    "end_time = pd.to_datetime('2020-12-11 09:30:00')\n",
    "\n",
    "#ax.set_xlim(start_time,end_time);"
   ]
  },
  {
   "cell_type": "markdown",
   "metadata": {
    "iooxa": {
     "id": {
      "block": "jfNGHUo2E9esn0S3c9C1",
      "project": "mmReuqVTAa9JzPpNr22I",
      "version": 1
     }
    }
   },
   "source": [
    "As the plot and the remaining_nan.describe() show that I have filled all the PTS values with flow rates, I will now drop the flow values that have no pts value"
   ]
  },
  {
   "cell_type": "code",
   "execution_count": null,
   "metadata": {
    "iooxa": {
     "id": {
      "block": "IKSL8aysVGD2z7R9GAL0",
      "project": "mmReuqVTAa9JzPpNr22I",
      "version": 1
     },
     "outputId": null
    }
   },
   "outputs": [],
   "source": [
    "nan_trimmed = combined.dropna()\n",
    "\n",
    "nan_trimmed = combined[combined['depth_m'].notna()]\n"
   ]
  },
  {
   "cell_type": "code",
   "execution_count": null,
   "metadata": {
    "iooxa": {
     "id": {
      "block": "j0XRar4L3uj15MEJlHvT",
      "project": "mmReuqVTAa9JzPpNr22I",
      "version": 1
     },
     "outputId": null
    }
   },
   "outputs": [],
   "source": [
    "nan_trimmed.shape "
   ]
  },
  {
   "cell_type": "code",
   "execution_count": null,
   "metadata": {
    "iooxa": {
     "id": {
      "block": "XguCBTRhojITwWoFqX9Y",
      "project": "mmReuqVTAa9JzPpNr22I",
      "version": 1
     },
     "outputId": null
    }
   },
   "outputs": [],
   "source": [
    "combined.shape"
   ]
  },
  {
   "cell_type": "code",
   "execution_count": null,
   "metadata": {
    "iooxa": {
     "id": {
      "block": "eIKtqMZ4rvehUDzEXxeU",
      "project": "mmReuqVTAa9JzPpNr22I",
      "version": 1
     },
     "outputId": null
    }
   },
   "outputs": [],
   "source": [
    "nan_trimmed.reset_index(inplace=True)"
   ]
  },
  {
   "cell_type": "code",
   "execution_count": null,
   "metadata": {
    "iooxa": {
     "id": {
      "block": "88qnZ53E6M9yll14TSBS",
      "project": "mmReuqVTAa9JzPpNr22I",
      "version": 1
     },
     "outputId": null
    }
   },
   "outputs": [],
   "source": [
    "nan_trimmed.head(2)"
   ]
  },
  {
   "cell_type": "code",
   "execution_count": null,
   "metadata": {},
   "outputs": [],
   "source": []
  },
  {
   "cell_type": "code",
   "execution_count": null,
   "metadata": {
    "iooxa": {
     "id": {
      "block": "V38e6lu4e2iRktb25bd3",
      "project": "mmReuqVTAa9JzPpNr22I",
      "version": 1
     },
     "outputId": null
    }
   },
   "outputs": [],
   "source": [
    "fig, (ax) = plt.subplots(1, 1, figsize=(24,8))\n",
    "\n",
    "ax.scatter(combined.datetime, combined.new_flow_tph, \n",
    "    c='k', s = 5, linewidths = 0)\n",
    "\n",
    "ax.scatter(combined.datetime, combined.flow_tph, \n",
    "    c='r', s = 30, linewidths = 0)\n",
    "\n",
    "ax.scatter(pts.datetime, pts.cweight_kg, \n",
    "    c='b', s = 5, linewidths = 0, label = 'Raw cabel weight')\n",
    "\n",
    "ax.scatter(nan_trimmed.datetime, nan_trimmed.cweight_kg, \n",
    "    c='g', s = 30, linewidths = 0, label = 'NAN cabel weight')\n",
    "\n",
    "ax.set_ylim(0,150)\n",
    "\n",
    "ax.set_xlabel('Time [hh:mm]')\n",
    "ax.xaxis.set_major_formatter(mdates.DateFormatter('%H:%M'))\n",
    "\n",
    "\n",
    "start_time = pd.to_datetime('2020-12-11 09:25:00')\n",
    "end_time = pd.to_datetime('2020-12-11 09:30:00')\n",
    "\n",
    "#ax.set_xlim(start_time,end_time);"
   ]
  },
  {
   "cell_type": "code",
   "execution_count": null,
   "metadata": {
    "iooxa": {
     "id": {
      "block": "YFwBIE34H74W0yqBwWen",
      "project": "mmReuqVTAa9JzPpNr22I",
      "version": 1
     },
     "outputId": null
    }
   },
   "outputs": [],
   "source": [
    "# turning the method into a function\n",
    "\n",
    "flowrate_f = read_flowrate(r'Data-FlowRate.xlsx')\n",
    "pts_f = read_pts(r'Data-PTS.xlsx')"
   ]
  },
  {
   "cell_type": "code",
   "execution_count": null,
   "metadata": {
    "iooxa": {
     "id": {
      "block": "koL2FPouhpabsvyK34XJ",
      "project": "mmReuqVTAa9JzPpNr22I",
      "version": 1
     },
     "outputId": null
    }
   },
   "outputs": [],
   "source": [
    "def append_flowrate_to_pts(flowrate_df, pts_df):\n",
    "    '''\n",
    "    Add surface flowrate to pts data\n",
    "\n",
    "    Note that the flowrate data is recorded at a courser time resolution than the pts data\n",
    "    The function makes a linear interpolation to fill the data gaps\n",
    "    Refer to bonus-combine-data.ipynb to review this method and adapt it for your own data\n",
    "\n",
    "    Args:   flowrate and pts dataframes generated by the read_flowrate and read_pts functions\n",
    "\n",
    "    Returns: pts dataframe with flowrate tph added\n",
    "    '''\n",
    "    flowrate_df = flowrate_df.set_index('timestamp')\n",
    "    pts_df = pts_df.set_index('timestamp')\n",
    "    combined_df = pts_df.join(flowrate_df, how = 'outer',  lsuffix = '_pts', rsuffix = '_fr')\n",
    "    combined_df.drop(columns = ['datetime_fr'], inplace = True)\n",
    "    combined_df.columns = ['depth_m', 'speed_mps', 'cweight_kg', 'whp_barg', 'temp_degC',\n",
    "       'pressure_bara', 'frequency_hz', 'datetime', 'flow_tph']\n",
    "    combined_df['interpolated_flow_tph'] = combined_df['flow_tph'].interpolate(method='linear')\n",
    "    trimmed_df = combined_df[combined_df['depth_m'].notna()]\n",
    "    trimmed_df.reset_index(inplace=True)\n",
    "    return trimmed_df\n",
    "\n",
    "mudged_df = append_flowrate_to_pts(flowrate_f, pts_f)"
   ]
  },
  {
   "cell_type": "code",
   "execution_count": null,
   "metadata": {
    "iooxa": {
     "id": {
      "block": "iH3CuxDafoGsyheGJPd7",
      "project": "mmReuqVTAa9JzPpNr22I",
      "version": 1
     },
     "outputId": null
    }
   },
   "outputs": [],
   "source": [
    "mudged_df.shape"
   ]
  },
  {
   "cell_type": "code",
   "execution_count": null,
   "metadata": {
    "iooxa": {
     "id": {
      "block": "H5CbXVTkXJbLcJUjOG6Q",
      "project": "mmReuqVTAa9JzPpNr22I",
      "version": 1
     },
     "outputId": null
    }
   },
   "outputs": [],
   "source": [
    "mudged_df.head()"
   ]
  },
  {
   "cell_type": "markdown",
   "metadata": {
    "iooxa": {
     "id": {
      "block": "6TqbXoJJOfXv1oeGbJIQ",
      "project": "mmReuqVTAa9JzPpNr22I",
      "version": 1
     }
    }
   },
   "source": [
    "***\n",
    "\n",
    "<p><center>© 2021 <a href=\"https://www.cubicearth.nz/\">Irene Wallis</a> and <a href=\"https://www.linkedin.com/in/katie-mclean-25994315/\">Katie McLean</a> <a href=\"https://creativecommons.org/licenses/by/4.0/\"</a></center></p>\n",
    "\n",
    "<p><center>Licensed under the Apache License, Version 2.0</center></p>\n",
    "\n",
    "***"
   ]
  },
  {
   "cell_type": "code",
   "execution_count": null,
   "metadata": {},
   "outputs": [],
   "source": []
  }
 ],
 "metadata": {
  "iooxa": {
   "id": {
    "block": "CuSEFk7WdWBVriyCxLD2",
    "project": "mmReuqVTAa9JzPpNr22I",
    "version": 1
   }
  },
  "kernelspec": {
   "display_name": "Python 3",
   "language": "python",
   "name": "python3"
  },
  "language_info": {
   "codemirror_mode": {
    "name": "ipython",
    "version": 3
   },
   "file_extension": ".py",
   "mimetype": "text/x-python",
   "name": "python",
   "nbconvert_exporter": "python",
   "pygments_lexer": "ipython3",
   "version": "3.7.9"
  }
 },
 "nbformat": 4,
 "nbformat_minor": 4
}
