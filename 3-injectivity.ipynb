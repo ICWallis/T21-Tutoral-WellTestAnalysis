{
 "cells": [
  {
   "cell_type": "markdown",
   "metadata": {},
   "source": [
    "# Injectivity t/hr.bar\n",
    "\n",
    "some intro text"
   ]
  },
  {
   "cell_type": "code",
   "execution_count": null,
   "metadata": {},
   "outputs": [],
   "source": [
    "import pandas as pd\n",
    "import matplotlib.pyplot as plt\n",
    "import matplotlib.dates as mdates\n",
    "from ipywidgets import interactive, Layout, FloatSlider\n",
    "from utilities import* # functions in the utilities.py file"
   ]
  },
  {
   "source": [
    "Because the cell below includes all steps required to import and mudge the data (everything from notebook 1), it will take a little while to run. "
   ],
   "cell_type": "markdown",
   "metadata": {}
  },
  {
   "cell_type": "code",
   "execution_count": null,
   "metadata": {},
   "outputs": [],
   "source": [
    "flowrate = read_flowrate(r'Data-FlowRate.xlsx')\n",
    "pts = read_pts(r'Data-PTS.xlsx')"
   ]
  },
  {
   "cell_type": "code",
   "execution_count": null,
   "metadata": {},
   "outputs": [],
   "source": [
    "pts.info()"
   ]
  },
  {
   "cell_type": "code",
   "execution_count": null,
   "metadata": {},
   "outputs": [],
   "source": [
    "flowrate.info()"
   ]
  },
  {
   "cell_type": "code",
   "execution_count": null,
   "metadata": {},
   "outputs": [],
   "source": [
    "heating_37days = pd.read_csv('Data-heating37days.csv')\n",
    "\n",
    "heating_37days['pressure_bara'] = heating_37days.pres_barg - 1\n",
    "\n",
    "heating_37days.head(2)\n",
    "\n"
   ]
  },
  {
   "cell_type": "code",
   "execution_count": null,
   "metadata": {},
   "outputs": [],
   "source": [
    "fig, (ax1, ax2) = plt.subplots(1, 2,figsize=(24,8),sharey=True)\n",
    "\n",
    "ax1.scatter(pts.pressure_bara, pts.depth_m, c = pts.timestamp, s = 5, linewidths = 0)\n",
    "\n",
    "ax1.plot(heating_37days.pressure_bara, heating_37days.depth_m, c = 'k', label = 'Heating 37 days')\n",
    "\n",
    "ax1.legend()\n",
    "\n",
    "ax2.scatter(pts.datetime, pts.depth_m, c = pts.timestamp, s = 5, linewidths = 0)\n",
    "\n",
    "ax3 = ax2.twinx()\n",
    "ax3.plot(flowrate.datetime, flowrate.flow_tph, \n",
    "    c='k', linestyle = '-', linewidth = 3, alpha = 0.3, \n",
    "    label='Surface pump flowrate')\n",
    "\n",
    "ax1.set_ylim(1000,0)  # 940,400 \n",
    "ax1.set_xlim(0,55)     # 20,500\n",
    "\n",
    "ax1.set_xlabel('Pressure [bara]')\n",
    "ax1.set_ylabel('Depth [m]')\n",
    "\n",
    "ax2.set_xlabel('Time [hh:mm]')\n",
    "ax2.xaxis.set_major_formatter(mdates.DateFormatter('%H:%M'))\n",
    "\n",
    "ax3.set_ylabel('Flowrate [t/hr]')\n",
    "\n",
    "for ax in [ax1, ax2]:\n",
    "    ax.grid()\n",
    "\n",
    "# completion test logs cross at this depth\n",
    "#ax1.axhline(725,0,100, color='k',linestyle = ':');\n"
   ]
  },
  {
   "source": [
    "# Pressure analysis and well pivot points\n",
    "\n",
    "Some kind of side descrition of pivot points with the nice figure from Katie's PhD"
   ],
   "cell_type": "markdown",
   "metadata": {}
  },
  {
   "source": [
    "Use the interactive plot to select the times within the completion test program when the pressure down-hole is most likely to be stable for a given flow rate"
   ],
   "cell_type": "markdown",
   "metadata": {}
  },
  {
   "cell_type": "code",
   "execution_count": null,
   "metadata": {},
   "outputs": [],
   "source": [
    "#from ipywidgets import interactive, Layout, FloatSlider\n",
    "# fix legend display here and in other figures\n",
    "\n",
    "min_timestamp = pts.timestamp.iloc[0]\n",
    "max_timestamp = pts.timestamp.iloc[-1]\n",
    "\n",
    "def subselect_plot(first_value, second_value, third_value):\n",
    "    f,ax1 = plt.subplots(1,1, figsize = (20,6))\n",
    "    ax1.plot(pts.timestamp, pts.depth_m, c = 'k', label = 'PTS tool depth')\n",
    "    ax2 = ax1.twinx()\n",
    "    ax2.plot(flowrate.timestamp, flowrate.flow_tph, c='k', linestyle = ':', label='Surface pump flowrate')\n",
    "    ymin = pts.depth_m.min()\n",
    "    ymax = pts.depth_m.max() + 100\n",
    "    ax1.vlines(first_value, ymin, ymax, color='tab:green')\n",
    "    ax1.vlines(second_value, ymin, ymax, color='tab:orange')\n",
    "    ax1.vlines(third_value, ymin, ymax, color='tab:red')\n",
    "    ax1.set_ylim(pts.depth_m.max() + 100, 0)\n",
    "\n",
    "result = interactive(subselect_plot,\n",
    "         \n",
    "         first_value = FloatSlider\n",
    "         (\n",
    "             value = (max_timestamp - min_timestamp)/6 + min_timestamp,\n",
    "             description = '1st value',\n",
    "             min = min_timestamp, \n",
    "             max = max_timestamp, \n",
    "             step = 10, \n",
    "             continuous_update=True,\n",
    "             layout = Layout(width='80%'),\n",
    "             ),\n",
    "          \n",
    "          second_value = FloatSlider\n",
    "          (\n",
    "             value = (max_timestamp - min_timestamp)/4 + min_timestamp, \n",
    "             description = '2nd value',\n",
    "             min = min_timestamp, \n",
    "             max = max_timestamp, \n",
    "             step = 10, \n",
    "             continuous_update=True,\n",
    "             layout = Layout(width='80%')\n",
    "             ),\n",
    "\n",
    "          third_value = FloatSlider\n",
    "          (\n",
    "             value = (max_timestamp - min_timestamp)/2 + min_timestamp, \n",
    "             description = '3rd value',\n",
    "             min = min_timestamp, \n",
    "             max = max_timestamp, \n",
    "             step = 10, \n",
    "             continuous_update=True,\n",
    "             layout = Layout(width='80%')\n",
    "             )\n",
    ")\n",
    "\n",
    "display(result);\n"
   ]
  },
  {
   "source": [
    "After you place the 1st (green), 2nd (orange), and 3rd (red) line locations, run the cell below to call the results. "
   ],
   "cell_type": "markdown",
   "metadata": {}
  },
  {
   "cell_type": "code",
   "execution_count": null,
   "metadata": {},
   "outputs": [],
   "source": [
    "# extract pressure and flow rate at the marked points\n",
    "print(\n",
    "    '1st value =',result.children[0].value, ' which is', datetime.fromtimestamp(result.children[0].value), \n",
    "    '\\n 2nd value =', result.children[1].value, ' which is', datetime.fromtimestamp(result.children[1].value),\n",
    "    '\\n 3rd value =', result.children[2].value, ' which is', datetime.fromtimestamp(result.children[2].value),\n",
    "    )\n"
   ]
  },
  {
   "source": [
    "Because result.children will change each time you move the sliders in the plot above or re-run this Jupyter Notebook, we copy-paste our selection below. This records your choice and will be the values you do the rest of the interpretation with. "
   ],
   "cell_type": "markdown",
   "metadata": {}
  },
  {
   "source": [
    "### My selected data\n",
    "\n",
    "1st value = 1607641784.448  which is 2020-12-11 12:09:44.448000\n",
    "\n",
    "2nd value = 1607650624.448  which is 2020-12-11 14:37:04.448000\n",
    " \n",
    "3rd value = 1607655614.448  which is 2020-12-11 16:00:14.448000"
   ],
   "cell_type": "markdown",
   "metadata": {}
  },
  {
   "cell_type": "code",
   "execution_count": null,
   "metadata": {},
   "outputs": [],
   "source": [
    "# my selected data as objects\n",
    "\n",
    "first_timestamp = 1607641784.448\n",
    "second_timestamp = 1607650624.448\n",
    "third_timestamp = 1607655614.448"
   ]
  },
  {
   "cell_type": "code",
   "execution_count": null,
   "metadata": {},
   "outputs": [],
   "source": [
    "def find_index(value, df, colname):\n",
    "    '''\n",
    "    Find the dataframe index for the exact matching value or nearest two values\n",
    "\n",
    "    args:   value: (float or int) the search term\n",
    "            df: (obj) the name of the dataframe that is searched\n",
    "            colname: (str) the name of the coloum this is searched\n",
    "\n",
    "    returns:  dataframe index(s) for the matching value or the two adjacent values\n",
    "              rows can be called from a df using df.iloc[[index_number,index_number]]\n",
    "    '''\n",
    "    exactmatch = df[df[colname] == value]\n",
    "    if not exactmatch.empty:\n",
    "        return exactmatch.index\n",
    "    else:\n",
    "        lowerneighbour_index = df[df[colname] < value][colname].idxmax()\n",
    "        upperneighbour_index = df[df[colname] > value][colname].idxmin()\n",
    "        return [lowerneighbour_index, upperneighbour_index] "
   ]
  },
  {
   "cell_type": "code",
   "execution_count": null,
   "metadata": {},
   "outputs": [],
   "source": [
    "# make new pts df that has values adjacent my selected value\n",
    "\n",
    "first_pts = pts.iloc[find_index(first_timestamp, pts, 'timestamp')]\n",
    "second_pts = pts.iloc[find_index(second_timestamp, pts, 'timestamp')]\n",
    "third_pts = pts.iloc[find_index(third_timestamp, pts, 'timestamp')]\n",
    "\n",
    "first_pts"
   ]
  },
  {
   "cell_type": "code",
   "execution_count": null,
   "metadata": {},
   "outputs": [],
   "source": [
    "# make an array of the mean pressure values\n",
    "import numpy as np\n",
    "\n",
    "list = []\n",
    "for df in [first_pts, second_pts, third_pts]:\n",
    "    mean_pressure = df['pressure_bara'].mean()\n",
    "    list.append(mean_pressure)\n",
    "pressure_array = np.array(list)\n",
    "\n",
    "print('pressure data =', pressure_array)\n",
    "print('object type =', type(pressure_array))\n"
   ]
  },
  {
   "cell_type": "code",
   "execution_count": null,
   "metadata": {},
   "outputs": [],
   "source": [
    "# make new flowrate df that has values adjacent my selected value\n",
    "\n",
    "first_flowrate = flowrate.iloc[find_index(first_timestamp, flowrate, 'timestamp')]\n",
    "second_flowrate = flowrate.iloc[find_index(second_timestamp, flowrate, 'timestamp')]\n",
    "third_flowrate = flowrate.iloc[find_index(third_timestamp, flowrate, 'timestamp')]\n",
    "first_flowrate"
   ]
  },
  {
   "cell_type": "code",
   "execution_count": null,
   "metadata": {},
   "outputs": [],
   "source": [
    "# make an array of the mean flowrate values\n",
    "\n",
    "list = []\n",
    "for df in [first_flowrate, second_flowrate, third_flowrate]:\n",
    "    mean_flowrate = df['flow_tph'].mean()\n",
    "    list.append(mean_flowrate)\n",
    "flowrate_array = np.array(list)\n",
    "\n",
    "print('flowrate data =', flowrate_array)\n",
    "print('object type =', type(flowrate_array))"
   ]
  },
  {
   "cell_type": "code",
   "execution_count": null,
   "metadata": {},
   "outputs": [],
   "source": [
    "from numpy.polynomial.polynomial import polyfit\n",
    "\n",
    "# calculate the linear fit to the pressure and flowrate arrays\n",
    "polyfit_b, polyfit_m = polyfit(pressure_array, flowrate_array, 1)\n",
    "\n",
    "# a fancy way to format strings that calls the objects polyfit_b and polyfit_m\n",
    "print(\"The numpy polyfit linear model for our data: y = {:.5} + {:.5}X\"\n",
    "      .format(polyfit_b, polyfit_m))\n"
   ]
  },
  {
   "cell_type": "code",
   "execution_count": null,
   "metadata": {},
   "outputs": [],
   "source": [
    "f,ax = plt.subplots(1,1,figsize=(6,4))\n",
    "\n",
    "ax.scatter(pressure_array, flowrate_array, \n",
    "           s=100, c='k', label = 'Data')\n",
    "\n",
    "ax.plot(pressure_array, # x values\n",
    "    polyfit_m * pressure_array + polyfit_b, # use the model to generate y values\n",
    "    color='tab:orange', linestyle='-', linewidth=4, alpha=0.5, label='Linear fit')\n",
    "\n",
    "ax.text(pressure_array[0],flowrate_array[2], \n",
    "    \"Injectivity index [t/hr.bar] = {:}\".format(round(polyfit_m)), \n",
    "    fontsize = 12, horizontalalignment='right')\n",
    "\n",
    "ax.legend()\n",
    "ax.set_ylabel('Rate [t/hr]')\n",
    "ax.set_xlabel('Pressure [bara]')  "
   ]
  },
  {
   "source": [
    "**Include the adapted version of MAG's II plot**"
   ],
   "cell_type": "markdown",
   "metadata": {}
  },
  {
   "cell_type": "markdown",
   "metadata": {},
   "source": [
    "***\n",
    "\n",
    "<p><center>© 2021 <a href=\"https://www.cubicearth.nz/\">Irene Wallis</a> and <a href=\"https://www.linkedin.com/in/katie-mclean-25994315/\">Katie McLean</a> <a href=\"https://creativecommons.org/licenses/by/4.0/\"</a></center></p>\n",
    "\n",
    "<p><center>Licensed under the Apache License, Version 2.0 (the \"License\");\n",
    "you may not use this file except in compliance with the License.\n",
    "You may obtain a copy of the License at <a href=\"http://www.apache.org/licenses/LICENSE-2.0\">http://www.apache.org/licenses/LICENSE-2.0</a></center></p>\n",
    "\n",
    "<p><center>Unless required by applicable law or agreed to in writing, software\n",
    "distributed under the License is distributed on an \"AS IS\" BASIS,\n",
    "WITHOUT WARRANTIES OR CONDITIONS OF ANY KIND, either express or implied.\n",
    "See the License for the specific language governing permissions and\n",
    "limitations under the License.</center></p>\n",
    "\n",
    "***"
   ]
  },
  {
   "cell_type": "code",
   "execution_count": null,
   "metadata": {},
   "outputs": [],
   "source": []
  }
 ],
 "metadata": {
  "kernelspec": {
   "name": "python379jvsc74a57bd05f84944cbdf6ff6ac2afcd6c74dedc022d84e7a25a2c0cfdb88f6f712510a150",
   "display_name": "Python 3.7.9 64-bit ('geothrm': conda)"
  },
  "language_info": {
   "codemirror_mode": {
    "name": "ipython",
    "version": 3
   },
   "file_extension": ".py",
   "mimetype": "text/x-python",
   "name": "python",
   "nbconvert_exporter": "python",
   "pygments_lexer": "ipython3",
   "version": "3.7.9"
  }
 },
 "nbformat": 4,
 "nbformat_minor": 4
}