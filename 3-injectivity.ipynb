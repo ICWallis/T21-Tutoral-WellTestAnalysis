{
 "cells": [
  {
   "cell_type": "markdown",
   "metadata": {},
   "source": [
    "# Injectivity t/hr.bar\n",
    "\n",
    "Injectivity is the massrate ()"
   ]
  },
  {
   "cell_type": "code",
   "execution_count": 47,
   "metadata": {},
   "outputs": [],
   "source": [
    "import pandas as pd\n",
    "import matplotlib.pyplot as plt\n",
    "import matplotlib.dates as mdates\n",
    "from ipywidgets import interactive, Layout, FloatSlider\n",
    "from utilities import* # functions in the utilities.py file"
   ]
  },
  {
   "source": [
    "Because the cell below includes all steps required to import and mudge the data (everything from notebook 1), it will take a little while to run. "
   ],
   "cell_type": "markdown",
   "metadata": {}
  },
  {
   "cell_type": "code",
   "execution_count": 48,
   "metadata": {},
   "outputs": [],
   "source": [
    "flowrate = read_flowrate(r'Data-FlowRate.xlsx')\n",
    "pts = read_pts(r'Data-PTS.xlsx')"
   ]
  },
  {
   "cell_type": "code",
   "execution_count": 49,
   "metadata": {},
   "outputs": [],
   "source": [
    "flowrate['timestamp'] = datetime_to_timestamp(flowrate.datetime)\n",
    "pts['timestamp'] = datetime_to_timestamp(pts.datetime);"
   ]
  },
  {
   "cell_type": "code",
   "execution_count": 50,
   "metadata": {},
   "outputs": [],
   "source": [
    "# interpolate flow rates onto the PTS dataframe using time"
   ]
  },
  {
   "cell_type": "code",
   "execution_count": 51,
   "metadata": {},
   "outputs": [
    {
     "output_type": "stream",
     "name": "stdout",
     "text": [
      "<class 'pandas.core.frame.DataFrame'>\nRangeIndex: 101293 entries, 0 to 101292\nData columns (total 9 columns):\n #   Column         Non-Null Count   Dtype         \n---  ------         --------------   -----         \n 0   depth_m        101293 non-null  float64       \n 1   speed_mps      101208 non-null  float64       \n 2   cweight_kg     101293 non-null  float64       \n 3   whp_barg       101293 non-null  float64       \n 4   temp_degC      101293 non-null  float64       \n 5   pressure_bara  101293 non-null  float64       \n 6   frequency_hz   94238 non-null   float64       \n 7   datetime       101293 non-null  datetime64[ns]\n 8   timestamp      101293 non-null  float64       \ndtypes: datetime64[ns](1), float64(8)\nmemory usage: 7.0 MB\n"
     ]
    }
   ],
   "source": [
    "pts.info()"
   ]
  },
  {
   "cell_type": "code",
   "execution_count": 52,
   "metadata": {},
   "outputs": [
    {
     "output_type": "stream",
     "name": "stdout",
     "text": [
      "<class 'pandas.core.frame.DataFrame'>\nRangeIndex: 711 entries, 0 to 710\nData columns (total 3 columns):\n #   Column     Non-Null Count  Dtype         \n---  ------     --------------  -----         \n 0   datetime   711 non-null    datetime64[ns]\n 1   flow_tph   711 non-null    float64       \n 2   timestamp  711 non-null    float64       \ndtypes: datetime64[ns](1), float64(2)\nmemory usage: 16.8 KB\n"
     ]
    }
   ],
   "source": [
    "flowrate.info()"
   ]
  },
  {
   "source": [
    "Use the interactive plot to select the times within the completion test program when pressure is most likely to be stable for a given flow rate"
   ],
   "cell_type": "markdown",
   "metadata": {}
  },
  {
   "cell_type": "code",
   "execution_count": 53,
   "metadata": {},
   "outputs": [
    {
     "output_type": "display_data",
     "data": {
      "text/plain": "interactive(children=(FloatSlider(value=1607636262.096, description='1st value', layout=Layout(width='80%'), m…",
      "application/vnd.jupyter.widget-view+json": {
       "version_major": 2,
       "version_minor": 0,
       "model_id": "a7bd3e594fa64060a3079c83f9d64cea"
      }
     },
     "metadata": {}
    }
   ],
   "source": [
    "#from ipywidgets import interactive, Layout, FloatSlider\n",
    "# fix legend display here and in other figures\n",
    "\n",
    "min_timestamp = pts.timestamp.iloc[0]\n",
    "max_timestamp = pts.timestamp.iloc[-1]\n",
    "\n",
    "def subselect_plot(first_value, second_value, third_value):\n",
    "    f,ax1 = plt.subplots(1,1, figsize = (20,6))\n",
    "    ax1.plot(pts.timestamp, pts.depth_m, c = 'k', label = 'PTS tool depth')\n",
    "    ax2 = ax1.twinx()\n",
    "    ax2.plot(flowrate.timestamp, flowrate.flow_tph, c='k', linestyle = ':', label='Surface pump flowrate')\n",
    "    ymin = pts.depth_m.min()\n",
    "    ymax = pts.depth_m.max() + 100\n",
    "    ax1.vlines(first_value, ymin, ymax, color='tab:green')\n",
    "    ax1.vlines(second_value, ymin, ymax, color='tab:orange')\n",
    "    ax1.vlines(third_value, ymin, ymax, color='tab:red')\n",
    "    ax1.set_ylim(pts.depth_m.max() + 100, 0)\n",
    "\n",
    "result = interactive(subselect_plot,\n",
    "         \n",
    "         first_value = FloatSlider\n",
    "         (\n",
    "             value = (max_timestamp - min_timestamp)/6 + min_timestamp,\n",
    "             description = '1st value',\n",
    "             min = min_timestamp, \n",
    "             max = max_timestamp, \n",
    "             step = 10, \n",
    "             continuous_update=True,\n",
    "             layout = Layout(width='80%'),\n",
    "             ),\n",
    "          \n",
    "          second_value = FloatSlider\n",
    "          (\n",
    "             value = (max_timestamp - min_timestamp)/4 + min_timestamp, \n",
    "             description = '2nd value',\n",
    "             min = min_timestamp, \n",
    "             max = max_timestamp, \n",
    "             step = 10, \n",
    "             continuous_update=True,\n",
    "             layout = Layout(width='80%')\n",
    "             ),\n",
    "\n",
    "          third_value = FloatSlider\n",
    "          (\n",
    "             value = (max_timestamp - min_timestamp)/2 + min_timestamp, \n",
    "             description = '3rd value',\n",
    "             min = min_timestamp, \n",
    "             max = max_timestamp, \n",
    "             step = 10, \n",
    "             continuous_update=True,\n",
    "             layout = Layout(width='80%')\n",
    "             )\n",
    ")\n",
    "\n",
    "display(result);\n"
   ]
  },
  {
   "source": [
    "After you place the 1st (green), 2nd (orange), and 3rd (red) line locations, run the cell below to call the results. "
   ],
   "cell_type": "markdown",
   "metadata": {}
  },
  {
   "cell_type": "code",
   "execution_count": 54,
   "metadata": {},
   "outputs": [
    {
     "output_type": "stream",
     "name": "stdout",
     "text": [
      "1st value = 1607636262.096  which is 2020-12-11 10:37:42.096000 \n 2nd value = 1607638390.92  which is 2020-12-11 11:13:10.920000 \n 3rd value = 1607644777.392  which is 2020-12-11 12:59:37.392000\n"
     ]
    }
   ],
   "source": [
    "# extract pressure and flow rate at the marked points\n",
    "print(\n",
    "    '1st value =',result.children[0].value, ' which is', datetime.fromtimestamp(result.children[0].value), \n",
    "    '\\n 2nd value =', result.children[1].value, ' which is', datetime.fromtimestamp(result.children[1].value),\n",
    "    '\\n 3rd value =', result.children[2].value, ' which is', datetime.fromtimestamp(result.children[2].value),\n",
    "    )\n"
   ]
  },
  {
   "source": [
    "Because result.children will change each time you move the sliders in the plot above or re-run this Jupyter Notebook, we copy-paste our selection below. This records your choice and will be the values you do the rest of the interpretation with. "
   ],
   "cell_type": "markdown",
   "metadata": {}
  },
  {
   "source": [
    "### My selected data\n",
    "\n",
    "1st value = 1607641784.448  which is 2020-12-11 12:09:44.448000\n",
    "\n",
    "2nd value = 1607650624.448  which is 2020-12-11 14:37:04.448000\n",
    " \n",
    "3rd value = 1607655614.448  which is 2020-12-11 16:00:14.448000"
   ],
   "cell_type": "markdown",
   "metadata": {}
  },
  {
   "cell_type": "code",
   "execution_count": 55,
   "metadata": {},
   "outputs": [],
   "source": [
    "# my selected data as objects\n",
    "\n",
    "first_timestamp = 1607641784.448\n",
    "second_timestamp = 1607650624.448\n",
    "third_timestamp = 1607655614.448"
   ]
  },
  {
   "cell_type": "code",
   "execution_count": 56,
   "metadata": {},
   "outputs": [],
   "source": [
    "def find_index(value, df, colname):\n",
    "    '''\n",
    "    Find the dataframe index for the exact matching value or nearest two values\n",
    "\n",
    "    args:   value: (float or int) the search term\n",
    "            df: (obj) the name of the dataframe that is searched\n",
    "            colname: (str) the name of the coloum this is searched\n",
    "\n",
    "    returns:  dataframe index(s) for the matching value or the two adjacent values\n",
    "              rows can be called from a df using df.iloc[[index_number,index_number]]\n",
    "    '''\n",
    "    exactmatch = df[df[colname] == value]\n",
    "    if not exactmatch.empty:\n",
    "        return exactmatch.index\n",
    "    else:\n",
    "        lowerneighbour_index = df[df[colname] < value][colname].idxmax()\n",
    "        upperneighbour_index = df[df[colname] > value][colname].idxmin()\n",
    "        return [lowerneighbour_index, upperneighbour_index] "
   ]
  },
  {
   "cell_type": "code",
   "execution_count": 57,
   "metadata": {},
   "outputs": [
    {
     "output_type": "execute_result",
     "data": {
      "text/plain": [
       "        depth_m  speed_mps  cweight_kg  whp_barg  temp_degC  pressure_bara  \\\n",
       "38824  779.7876        0.0   142.43704 -0.614043  50.532658      37.737960   \n",
       "38827  779.7876        0.0   142.42804 -0.613947  50.553417      37.723953   \n",
       "\n",
       "       frequency_hz                datetime     timestamp  \n",
       "38824      4.297326 2020-12-11 12:09:44.064  1.607642e+09  \n",
       "38827      4.065515 2020-12-11 12:09:44.928  1.607642e+09  "
      ],
      "text/html": "<div>\n<style scoped>\n    .dataframe tbody tr th:only-of-type {\n        vertical-align: middle;\n    }\n\n    .dataframe tbody tr th {\n        vertical-align: top;\n    }\n\n    .dataframe thead th {\n        text-align: right;\n    }\n</style>\n<table border=\"1\" class=\"dataframe\">\n  <thead>\n    <tr style=\"text-align: right;\">\n      <th></th>\n      <th>depth_m</th>\n      <th>speed_mps</th>\n      <th>cweight_kg</th>\n      <th>whp_barg</th>\n      <th>temp_degC</th>\n      <th>pressure_bara</th>\n      <th>frequency_hz</th>\n      <th>datetime</th>\n      <th>timestamp</th>\n    </tr>\n  </thead>\n  <tbody>\n    <tr>\n      <th>38824</th>\n      <td>779.7876</td>\n      <td>0.0</td>\n      <td>142.43704</td>\n      <td>-0.614043</td>\n      <td>50.532658</td>\n      <td>37.737960</td>\n      <td>4.297326</td>\n      <td>2020-12-11 12:09:44.064</td>\n      <td>1.607642e+09</td>\n    </tr>\n    <tr>\n      <th>38827</th>\n      <td>779.7876</td>\n      <td>0.0</td>\n      <td>142.42804</td>\n      <td>-0.613947</td>\n      <td>50.553417</td>\n      <td>37.723953</td>\n      <td>4.065515</td>\n      <td>2020-12-11 12:09:44.928</td>\n      <td>1.607642e+09</td>\n    </tr>\n  </tbody>\n</table>\n</div>"
     },
     "metadata": {},
     "execution_count": 57
    }
   ],
   "source": [
    "# make new pts df that has values adjacent my selected value\n",
    "\n",
    "first_pts = pts.iloc[find_index(first_timestamp, pts, 'timestamp')]\n",
    "second_pts = pts.iloc[find_index(second_timestamp, pts, 'timestamp')]\n",
    "third_pts = pts.iloc[find_index(third_timestamp, pts, 'timestamp')]\n",
    "\n",
    "first_pts"
   ]
  },
  {
   "cell_type": "code",
   "execution_count": 58,
   "metadata": {},
   "outputs": [
    {
     "output_type": "stream",
     "name": "stdout",
     "text": [
      "pressure data = [37.7309565 37.605452  37.187458 ]\nobject type = <class 'numpy.ndarray'>\n"
     ]
    }
   ],
   "source": [
    "# make an array of the mean pressure values\n",
    "import numpy as np\n",
    "\n",
    "list = []\n",
    "for df in [first_pts, second_pts, third_pts]:\n",
    "    mean_pressure = df['pressure_bara'].mean()\n",
    "    list.append(mean_pressure)\n",
    "pressure_array = np.array(list)\n",
    "\n",
    "print('pressure data =', pressure_array)\n",
    "print('object type =', type(pressure_array))\n"
   ]
  },
  {
   "cell_type": "code",
   "execution_count": 59,
   "metadata": {},
   "outputs": [
    {
     "output_type": "execute_result",
     "data": {
      "text/plain": [
       "               datetime    flow_tph     timestamp\n",
       "363 2020-12-11 12:09:00  122.166929  1.607642e+09\n",
       "364 2020-12-11 12:10:00  122.713843  1.607642e+09"
      ],
      "text/html": "<div>\n<style scoped>\n    .dataframe tbody tr th:only-of-type {\n        vertical-align: middle;\n    }\n\n    .dataframe tbody tr th {\n        vertical-align: top;\n    }\n\n    .dataframe thead th {\n        text-align: right;\n    }\n</style>\n<table border=\"1\" class=\"dataframe\">\n  <thead>\n    <tr style=\"text-align: right;\">\n      <th></th>\n      <th>datetime</th>\n      <th>flow_tph</th>\n      <th>timestamp</th>\n    </tr>\n  </thead>\n  <tbody>\n    <tr>\n      <th>363</th>\n      <td>2020-12-11 12:09:00</td>\n      <td>122.166929</td>\n      <td>1.607642e+09</td>\n    </tr>\n    <tr>\n      <th>364</th>\n      <td>2020-12-11 12:10:00</td>\n      <td>122.713843</td>\n      <td>1.607642e+09</td>\n    </tr>\n  </tbody>\n</table>\n</div>"
     },
     "metadata": {},
     "execution_count": 59
    }
   ],
   "source": [
    "# make new flowrate df that has values adjacent my selected value\n",
    "\n",
    "first_flowrate = flowrate.iloc[find_index(first_timestamp, flowrate, 'timestamp')]\n",
    "second_flowrate = flowrate.iloc[find_index(second_timestamp, flowrate, 'timestamp')]\n",
    "third_flowrate = flowrate.iloc[find_index(third_timestamp, flowrate, 'timestamp')]\n",
    "first_flowrate"
   ]
  },
  {
   "cell_type": "code",
   "execution_count": 60,
   "metadata": {},
   "outputs": [
    {
     "output_type": "stream",
     "name": "stdout",
     "text": [
      "flowrate data = [122.44038576  92.66775147   0.        ]\nobject type = <class 'numpy.ndarray'>\n"
     ]
    }
   ],
   "source": [
    "# make an array of the mean flowrate values\n",
    "\n",
    "list = []\n",
    "for df in [first_flowrate, second_flowrate, third_flowrate]:\n",
    "    mean_flowrate = df['flow_tph'].mean()\n",
    "    list.append(mean_flowrate)\n",
    "flowrate_array = np.array(list)\n",
    "\n",
    "print('flowrate data =', flowrate_array)\n",
    "print('object type =', type(flowrate_array))"
   ]
  },
  {
   "cell_type": "code",
   "execution_count": 61,
   "metadata": {},
   "outputs": [],
   "source": [
    "\n",
    "\n",
    "# Interpolate values from the df's based on timestamp\n",
    "\n",
    "# do a plot to check the result\n",
    "\n",
    "# find a "
   ]
  },
  {
   "cell_type": "code",
   "execution_count": 62,
   "metadata": {},
   "outputs": [],
   "source": [
    "# do linear interpolation to find II"
   ]
  },
  {
   "cell_type": "markdown",
   "metadata": {},
   "source": [
    "***\n",
    "\n",
    "<p><center>© 2021 <a href=\"https://www.cubicearth.nz/\">Irene Wallis</a> and <a href=\"https://www.linkedin.com/in/katie-mclean-25994315/\">Katie McLean</a> <a href=\"https://creativecommons.org/licenses/by/4.0/\"</a></center></p>\n",
    "\n",
    "<p><center>Licensed under the Apache License, Version 2.0 (the \"License\");\n",
    "you may not use this file except in compliance with the License.\n",
    "You may obtain a copy of the License at <a href=\"http://www.apache.org/licenses/LICENSE-2.0\">http://www.apache.org/licenses/LICENSE-2.0</a></center></p>\n",
    "\n",
    "<p><center>Unless required by applicable law or agreed to in writing, software\n",
    "distributed under the License is distributed on an \"AS IS\" BASIS,\n",
    "WITHOUT WARRANTIES OR CONDITIONS OF ANY KIND, either express or implied.\n",
    "See the License for the specific language governing permissions and\n",
    "limitations under the License.</center></p>\n",
    "\n",
    "***"
   ]
  },
  {
   "cell_type": "code",
   "execution_count": null,
   "metadata": {},
   "outputs": [],
   "source": []
  }
 ],
 "metadata": {
  "kernelspec": {
   "display_name": "Python 3",
   "language": "python",
   "name": "python3"
  },
  "language_info": {
   "codemirror_mode": {
    "name": "ipython",
    "version": 3
   },
   "file_extension": ".py",
   "mimetype": "text/x-python",
   "name": "python",
   "nbconvert_exporter": "python",
   "pygments_lexer": "ipython3",
   "version": "3.7.9-final"
  }
 },
 "nbformat": 4,
 "nbformat_minor": 4
}