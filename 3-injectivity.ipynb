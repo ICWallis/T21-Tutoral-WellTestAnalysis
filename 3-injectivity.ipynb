{
 "cells": [
  {
   "cell_type": "markdown",
   "metadata": {},
   "source": [
    "***\n",
    "\n",
    "# 7. Injectivity index\n",
    "\n",
    "The injectivity is the change in mass rate (t/hr) per change in pressure (bar) that the well will accept. \n",
    "\n",
    "Something about PI is an that it is not included. \n",
    "\n",
    "A couple of sentences of intro text to the notebook structure"
   ]
  },
  {
   "cell_type": "markdown",
   "metadata": {},
   "source": [
    "***\n",
    "\n",
    "# 8. Import, mudge and check data\n",
    "\n",
    "## 8.1 Use bespoke functions to import and mudge data\n",
    "\n",
    "The data munging process in 1-overview.ipynb has been turned into specilised functions located in the functions.py file. We import and use that set of functions in the same way as any other module.\n"
   ]
  },
  {
   "cell_type": "code",
   "execution_count": null,
   "metadata": {},
   "outputs": [],
   "source": [
    "import pandas as pd\n",
    "import matplotlib.pyplot as plt\n",
    "import matplotlib.dates as mdates\n",
    "from ipywidgets import interactive, Layout, FloatSlider\n",
    "from utilities import* # functions in the utilities.py file"
   ]
  },
  {
   "cell_type": "markdown",
   "metadata": {},
   "source": [
    "The cell below will take a little while to run because it includes all steps required to import and mudge the data (i.e., everything we did in notebook 1)."
   ]
  },
  {
   "cell_type": "code",
   "execution_count": null,
   "metadata": {},
   "outputs": [],
   "source": [
    "flowrate = read_flowrate(r'Data-FlowRate.xlsx')\n",
    "pts = read_pts(r'Data-PTS.xlsx')"
   ]
  },
  {
   "cell_type": "markdown",
   "metadata": {},
   "source": [
    "We use surface pump flow rate and downhole pressure together for our analysis, so we append flow rate to our pts dataframe to make the method simpler. This is done using the append_flowrate_to_pts function from utilities.py"
   ]
  },
  {
   "cell_type": "code",
   "execution_count": null,
   "metadata": {},
   "outputs": [],
   "source": [
    "pts = append_flowrate_to_pts(flowrate, pts)"
   ]
  },
  {
   "cell_type": "markdown",
   "metadata": {},
   "source": [
    "## 8.2 Import stable temperature - pressure data for comparison\n",
    "\n",
    "After drilling and injection testing, geothermal wells heat up over time. \n",
    "So for comparison, we have provided a temperature log acquired when the well had reached its stable condition.\n"
   ]
  },
  {
   "cell_type": "code",
   "execution_count": null,
   "metadata": {},
   "outputs": [],
   "source": [
    "heating_37days = pd.read_csv('Data-heating37days.csv')\n",
    "\n",
    "heating_37days['pressure_bara'] = heating_37days.pres_barg - 1\n",
    "\n",
    "heating_37days.head(2)\n"
   ]
  },
  {
   "cell_type": "markdown",
   "metadata": {},
   "source": [
    "## 8.3 Check the data\n",
    "\n",
    "It is good practice to check your data after import. \n",
    "\n",
    "You can use the Pandas methods listed in Section 2.1.1 (1-intro-and-data.ipynb to check your data. "
   ]
  },
  {
   "cell_type": "code",
   "execution_count": null,
   "metadata": {},
   "outputs": [],
   "source": [
    "pts.head(2)"
   ]
  },
  {
   "cell_type": "code",
   "execution_count": null,
   "metadata": {},
   "outputs": [],
   "source": [
    "flowrate.head(2)"
   ]
  },
  {
   "cell_type": "code",
   "execution_count": null,
   "metadata": {},
   "outputs": [],
   "source": [
    "heating_37days.head(2)"
   ]
  },
  {
   "cell_type": "markdown",
   "metadata": {},
   "source": [
    "We have generated a plot below that enables us to check that we have imported what we expected to import. "
   ]
  },
  {
   "cell_type": "code",
   "execution_count": null,
   "metadata": {},
   "outputs": [],
   "source": [
    "fig, (ax1, ax2) = plt.subplots(1, 2,figsize=(24,8),sharey=True)\n",
    "\n",
    "ax1.scatter(pts.pressure_bara, pts.depth_m, c = pts.timestamp, s = 5, linewidths = 0)\n",
    "\n",
    "ax1.plot(heating_37days.pressure_bara, heating_37days.depth_m, c = 'k', label = 'Heating 37 days')\n",
    "\n",
    "ax1.legend()\n",
    "\n",
    "ax2.scatter(pts.datetime, pts.depth_m, c = pts.timestamp, s = 5, linewidths = 0)\n",
    "\n",
    "ax3 = ax2.twinx()\n",
    "ax3.plot(flowrate.datetime, flowrate.flow_tph, \n",
    "    c='k', linestyle = '-', linewidth = 3, alpha = 0.3, \n",
    "    label='Surface pump flowrate')\n",
    "\n",
    "ax1.set_ylim(1000,0)  # 940,400 \n",
    "ax1.set_xlim(0,55)     # 20,500\n",
    "\n",
    "ax1.set_xlabel('Pressure [bara]')\n",
    "ax1.set_ylabel('Depth [m]')\n",
    "\n",
    "ax2.set_xlabel('Time [hh:mm]')\n",
    "ax2.xaxis.set_major_formatter(mdates.DateFormatter('%H:%M'))\n",
    "\n",
    "ax3.set_ylabel('Flowrate [t/hr]')\n",
    "\n",
    "for ax in [ax1, ax2]:\n",
    "    ax.grid()"
   ]
  },
  {
   "cell_type": "markdown",
   "metadata": {},
   "source": [
    "\n",
    "# 9. Side note on pressure analysis in geothermal wells\n",
    "\n",
    "Some kind of short side description how pressure varies inside the well depending on fluid temp. Something about pivot points and that nice figure from Katie's PhD"
   ]
  },
  {
   "cell_type": "markdown",
   "metadata": {},
   "source": [
    "***\n",
    "\n",
    "## 10. Select the most stable pressure values for each flow rate \n",
    "\n",
    "### 10.1 Interactive plot with ipywidgets\n",
    "\n",
    "Use the interactive plot to select the times within the completion test program when the pressure down-hole is most likely to be stable for a given flow rate. \n",
    "\n",
    "The most stable pressure is usually just after the pts tool returned to the programmed hanging depth that was for pressure transient after the well passes are complete and before the pump rate is changed. "
   ]
  },
  {
   "cell_type": "code",
   "execution_count": null,
   "metadata": {},
   "outputs": [],
   "source": [
    "#from ipywidgets import interactive, Layout, FloatSlider\n",
    "# fix legend display here and in other figures\n",
    "\n",
    "min_timestamp = pts.timestamp.iloc[0]\n",
    "max_timestamp = pts.timestamp.iloc[-1]\n",
    "\n",
    "def subselect_plot(first_value, second_value, third_value):\n",
    "    f,ax1 = plt.subplots(1,1, figsize = (20,6))\n",
    "    ax1.plot(pts.timestamp, pts.depth_m, c = 'k', label = 'PTS tool depth')\n",
    "    ax2 = ax1.twinx()\n",
    "    ax2.plot(flowrate.timestamp, flowrate.flow_tph, c='k', linestyle = ':', label='Surface pump flowrate')\n",
    "    ymin = pts.depth_m.min()\n",
    "    ymax = pts.depth_m.max() + 100\n",
    "    ax1.vlines(first_value, ymin, ymax, color='tab:green')\n",
    "    ax1.vlines(second_value, ymin, ymax, color='tab:orange')\n",
    "    ax1.vlines(third_value, ymin, ymax, color='tab:red')\n",
    "    ax1.set_ylim(pts.depth_m.max() + 100, 0)\n",
    "\n",
    "result = interactive(subselect_plot,\n",
    "         \n",
    "         first_value = FloatSlider\n",
    "         (\n",
    "             value = (max_timestamp - min_timestamp)/6 + min_timestamp,\n",
    "             description = '1st value',\n",
    "             min = min_timestamp, \n",
    "             max = max_timestamp, \n",
    "             step = 10, \n",
    "             continuous_update=False,\n",
    "             layout = Layout(width='80%'),\n",
    "             ),\n",
    "          \n",
    "          second_value = FloatSlider\n",
    "          (\n",
    "             value = (max_timestamp - min_timestamp)/4 + min_timestamp, \n",
    "             description = '2nd value',\n",
    "             min = min_timestamp, \n",
    "             max = max_timestamp, \n",
    "             step = 10, \n",
    "             continuous_update=False,\n",
    "             layout = Layout(width='80%')\n",
    "             ),\n",
    "\n",
    "          third_value = FloatSlider\n",
    "          (\n",
    "             value = (max_timestamp - min_timestamp)/2 + min_timestamp, \n",
    "             description = '3rd value',\n",
    "             min = min_timestamp, \n",
    "             max = max_timestamp, \n",
    "             step = 10, \n",
    "             continuous_update=False,\n",
    "             layout = Layout(width='80%')\n",
    "             )\n",
    ")\n",
    "\n",
    "display(result);\n"
   ]
  },
  {
   "cell_type": "markdown",
   "metadata": {},
   "source": [
    "### 10.2 Call results from the interactive plot\n",
    "\n",
    "After you place the 1st (green), 2nd (orange), and 3rd (red) line locations, run the cell below to call the results. "
   ]
  },
  {
   "cell_type": "code",
   "execution_count": null,
   "metadata": {},
   "outputs": [],
   "source": [
    "# extract pressure and flow rate at the marked points\n",
    "print(\n",
    "    '1st value =',result.children[0].value, ' which is', datetime.fromtimestamp(result.children[0].value), \n",
    "    '\\n 2nd value =', result.children[1].value, ' which is', datetime.fromtimestamp(result.children[1].value),\n",
    "    '\\n 3rd value =', result.children[2].value, ' which is', datetime.fromtimestamp(result.children[2].value),\n",
    "    )\n"
   ]
  },
  {
   "cell_type": "markdown",
   "metadata": {},
   "source": [
    "### 10.3 Store analysis\n",
    "\n",
    "Because result.children will change each time you move the sliders in the plot above or re-run this Jupyter Notebook, we copy-paste our selection below. This records your choice and will be the values you do the rest of the interpretation with. "
   ]
  },
  {
   "cell_type": "markdown",
   "metadata": {},
   "source": [
    "#### Our selected data\n",
    "\n",
    "> 1st value = 1607635724.448  which is 2020-12-11 10:28:44.448000 \n",
    "\n",
    "> 2nd value = 1607644304.448  which is 2020-12-11 12:51:44.448000 \n",
    " \n",
    "> 3rd value = 1607650704.448  which is 2020-12-11 14:38:24.448000 \n",
    " \n",
    "The third value was selected before the tool made passes because the pumps were shut off so quickly \n",
    "that it is difficult to reliably pick the value after the tool passes at this plot scale. \n",
    "\n",
    "If we were concerned that the pressure was not stable before the logging passes, \n",
    "we could take the time to adjust the scale of our plot and pick the correct location."
   ]
  },
  {
   "cell_type": "code",
   "execution_count": null,
   "metadata": {},
   "outputs": [],
   "source": [
    "# our selected data as objects\n",
    "\n",
    "first_timestamp = 1607635724.448\n",
    "second_timestamp = 1607644304.448\n",
    "third_timestamp = 1607650704.448"
   ]
  },
  {
   "cell_type": "markdown",
   "metadata": {},
   "source": [
    "***\n",
    "\n",
    "## 11. Generate an array of stable pressure and flow rate\n",
    "\n",
    "Recall that we used the append_flowrate_to_pts function from our utilities.py in Section 8.1 above to append surface pump flow rate to our pts dataframe.\n",
    "\n",
    "## 11.1 Make new dataframes containing pts log values at our timestamps\n",
    "\n",
    "Making our new dataframes is a two step process:\n",
    "1. Find the index value where the timestamp is either an exact match to the value we pass in or is the nearest neighbour above and below\n",
    "2. Make new dataframes using the .iloc method and the timestamp returned by step 1 (i.e., the find_index function)"
   ]
  },
  {
   "cell_type": "code",
   "execution_count": null,
   "metadata": {},
   "outputs": [],
   "source": [
    "def find_index(value, df, colname):\n",
    "    '''\n",
    "    Find the dataframe index for the exact matching value or nearest two values\n",
    "\n",
    "    args:   value: (float or int) the search term\n",
    "            df: (obj) the name of the dataframe that is searched\n",
    "            colname: (str) the name of the coloum this is searched\n",
    "\n",
    "    returns:  dataframe index(s) for the matching value or the two adjacent values\n",
    "              rows can be called from a df using df.iloc[[index_number,index_number]]\n",
    "    '''\n",
    "    exactmatch = df[df[colname] == value]\n",
    "    if not exactmatch.empty:\n",
    "        return exactmatch.index\n",
    "    else:\n",
    "        lowerneighbour_index = df[df[colname] < value][colname].idxmax()\n",
    "        upperneighbour_index = df[df[colname] > value][colname].idxmin()\n",
    "        return [lowerneighbour_index, upperneighbour_index] "
   ]
  },
  {
   "cell_type": "code",
   "execution_count": null,
   "metadata": {},
   "outputs": [],
   "source": [
    "# make new pts dataframes that comprise the two values adjacent my selected value\n",
    "# this uses a function from our utilities.py\n",
    "\n",
    "first_pts = pts.iloc[find_index(first_timestamp, pts, 'timestamp')]\n",
    "second_pts = pts.iloc[find_index(second_timestamp, pts, 'timestamp')]\n",
    "third_pts = pts.iloc[find_index(third_timestamp, pts, 'timestamp')]"
   ]
  },
  {
   "cell_type": "code",
   "execution_count": null,
   "metadata": {},
   "outputs": [],
   "source": [
    "first_pts"
   ]
  },
  {
   "cell_type": "code",
   "execution_count": null,
   "metadata": {},
   "outputs": [],
   "source": [
    "second_pts"
   ]
  },
  {
   "cell_type": "code",
   "execution_count": null,
   "metadata": {},
   "outputs": [],
   "source": [
    "third_pts"
   ]
  },
  {
   "cell_type": "markdown",
   "metadata": {},
   "source": [
    "## 11.2 Make pressure and flow rate arrays\n",
    "\n",
    "Now we eaither use the exact match value or the mean of the two neighbouring values to make an array of pressure and flow rate that we can use in our injectivity index analysis."
   ]
  },
  {
   "cell_type": "code",
   "execution_count": null,
   "metadata": {},
   "outputs": [],
   "source": [
    "# make an array of the mean pressure values\n",
    "\n",
    "import numpy as np\n",
    "\n",
    "list = []\n",
    "for df in [first_pts, second_pts, third_pts]:\n",
    "    mean_pressure = df['pressure_bara'].mean()\n",
    "    list.append(mean_pressure)\n",
    "pressure_array = np.array(list)\n",
    "\n",
    "print('pressure data =', pressure_array)\n",
    "print('object type =', type(pressure_array))\n"
   ]
  },
  {
   "cell_type": "code",
   "execution_count": null,
   "metadata": {},
   "outputs": [],
   "source": [
    "# make an array of the mean flowrate values\n",
    "\n",
    "list = []\n",
    "for df in [first_pts, second_pts, third_pts]:\n",
    "    mean_flowrate = df['interpolated_flow_tph'].mean()\n",
    "    list.append(mean_flowrate)\n",
    "flowrate_array = np.array(list)\n",
    "\n",
    "print('flowrate data =', flowrate_array)\n",
    "print('object type =', type(flowrate_array))"
   ]
  },
  {
   "cell_type": "markdown",
   "metadata": {},
   "source": [
    "***\n",
    "\n",
    "# 12. Generate a liner regression model to find injectivity index\n",
    "\n",
    "The injectivity is the change in mass rate (t/hr) per change in pressure (bar) that the well will accept. \n",
    "\n",
    "If there is nothing unusual going on down hole, then we can find this with simple linear regression. There are many cases where a single linear model is not the best approach, such has where changes in pressure or thermal conditions in the well changes the permeability. In these cases, a two-slope approach may be better.\n",
    "\n",
    "## 12.1 Make the linear model\n",
    "\n",
    "There are many ways to do a simple linear regression. We selected the stats.linregress method from Scipy because it is relatively simple to use. It's also fast because it is tooled specifically for our two variable use case. The stats.linregress method returns the slope, intersect and R value that we need for our analysis. \n"
   ]
  },
  {
   "cell_type": "code",
   "execution_count": null,
   "metadata": {},
   "outputs": [],
   "source": [
    "from scipy import stats\n",
    "\n",
    "linear_model = stats.linregress(pressure_array, flowrate_array) \n",
    "\n",
    "linear_model"
   ]
  },
  {
   "cell_type": "code",
   "execution_count": null,
   "metadata": {},
   "outputs": [],
   "source": [
    "# Print a nicely formatted string describing of our model\n",
    "\n",
    "print(\"The linear model for our data is y = {:.5} + {:.5} * pressure\"\n",
    "      .format(intercept, slope))"
   ]
  },
  {
   "cell_type": "code",
   "execution_count": null,
   "metadata": {},
   "outputs": [],
   "source": [
    "# Define some sensibly named objects for reuse below\n",
    "\n",
    "slope = linear_model[0]\n",
    "intercept = linear_model[1]\n",
    "rvalue = linear_model[2]"
   ]
  },
  {
   "cell_type": "markdown",
   "metadata": {},
   "source": [
    "## 12.2 Plot the results"
   ]
  },
  {
   "cell_type": "code",
   "execution_count": null,
   "metadata": {},
   "outputs": [],
   "source": [
    "f,ax = plt.subplots(1,1,figsize=(6,4))\n",
    "\n",
    "ax.scatter(pressure_array, flowrate_array, \n",
    "           s=100, c='k', label = 'Data')\n",
    "\n",
    "ax.plot(pressure_array, # x values\n",
    "    slope * pressure_array + intercept, # use the model to generate y values\n",
    "    color='tab:orange', linestyle='-', linewidth=4, alpha=0.5, label='Linear fit')\n",
    "\n",
    "\n",
    "ax.set_title(\"Sample well injectivity index = {:} t/hr.bar\".format(round(slope)))\n",
    "\n",
    "#ax.set_ylim(0,130)\n",
    "#ax.set_xlim(0,40)\n",
    "\n",
    "ax.legend()\n",
    "ax.set_ylabel('Rate [t/hr]')\n",
    "ax.set_xlabel('Pressure [bara]')  "
   ]
  },
  {
   "cell_type": "markdown",
   "metadata": {},
   "source": [
    "***\n",
    "\n",
    "# 13. Interpreting injectivity index\n",
    "\n",
    "### 13.1 General guidelines and considerations\n",
    "\n",
    "Temperature effects, as discussed by [Siega et al. (2014)](https://www.geothermal-energy.org/pdf/IGAstandard/NZGW/2014/109.Siega.pdf)\n",
    "\n",
    "### 13.2 Understanding the scale of injectivity index\n",
    "\n",
    "Based on data from New Zealand geothermal fields, Malcom Grant determined that injectivity index forms a lognormal distribution (Figure X).\n",
    "\n",
    "<img src=\"Figures/injectivilty.png\" alt=\"Drawing\" style=\"width: 300px;\"/>\n",
    "\n",
    "\n",
    "_Figure X: Like many natural phenomena, geothermal well injectivity has a lognormal distribution. Figure adapted from [Grant (2008)](https://pangea.stanford.edu/ERE/pdf/IGAstandard/SGW/2008/grant.pdf)._\n",
    "\n",
    "There is no 1:1 relationship between the injectivity index (II) and productivity index (PI) of a geothermal well. Each reservoir is subject to conditions, like depth to liquid level and enthalpy, that influence the relationship between these indices. \n",
    "\n",
    "The table below reflects a general rule of thumb used when testing wells in a reservoir where the local relationship between II and PI has not already been established.\n",
    "\n",
    "|Permeability magnitude | II \\[t/hr.bar\\] |\n",
    "| --- | --- |\n",
    "| Very low permeability (near-conductive) | < 1 |\n",
    "| Poor permeability, usable in special cases | 1 - 5 |\n",
    "| Likely to be productive | 5 - 20 |\n",
    "| Median production well | 20 |\n",
    "| Reliably economic production for well if T > 250$^{\\circ}$C | 20-50 |\n",
    "| High permeability | 50 - 100 |\n",
    "| Very high permeability (unusual) | > 100 |\n",
    "\n",
    "# 14. Injectivity in our case study well\n",
    "\n",
    "With an II of 252 t/hr.bar, our case study well is  extremely permeable! "
   ]
  },
  {
   "cell_type": "markdown",
   "metadata": {},
   "source": [
    "***\n",
    "\n",
    "### Cited references\n",
    "\n",
    "Grant\n",
    "\n",
    "Siega\n",
    "\n",
    "Zarrouk, S.J. and McLean, K. (2019): Geothermal well test analysis: fundamentals, applications, and advanced techniques. 1st edition, Elsevier. \n",
    "\n",
    "***\n",
    "\n",
    "<p><center>© 2021 <a href=\"https://www.cubicearth.nz/\">Irene Wallis</a> and <a href=\"https://www.linkedin.com/in/katie-mclean-25994315/\">Katie McLean</a> <a href=\"https://creativecommons.org/licenses/by/4.0/\"</a></center></p>\n",
    "\n",
    "<p><center>Licensed under the Apache License, Version 2.0 (the \"License\");\n",
    "you may not use this file except in compliance with the License.\n",
    "You may obtain a copy of the License at <a href=\"http://www.apache.org/licenses/LICENSE-2.0\">http://www.apache.org/licenses/LICENSE-2.0</a></center></p>\n",
    "\n",
    "<p><center>Unless required by applicable law or agreed to in writing, software\n",
    "distributed under the License is distributed on an \"AS IS\" BASIS,\n",
    "WITHOUT WARRANTIES OR CONDITIONS OF ANY KIND, either express or implied.\n",
    "See the License for the specific language governing permissions and\n",
    "limitations under the License.</center></p>\n",
    "\n",
    "***"
   ]
  },
  {
   "cell_type": "code",
   "execution_count": null,
   "metadata": {},
   "outputs": [],
   "source": []
  }
 ],
 "metadata": {
  "kernelspec": {
   "display_name": "geothrm",
   "language": "python",
   "name": "geothrm"
  },
  "language_info": {
   "codemirror_mode": {
    "name": "ipython",
    "version": 3
   },
   "file_extension": ".py",
   "mimetype": "text/x-python",
   "name": "python",
   "nbconvert_exporter": "python",
   "pygments_lexer": "ipython3",
   "version": "3.7.9"
  }
 },
 "nbformat": 4,
 "nbformat_minor": 4
}