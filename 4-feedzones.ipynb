{
 "cells": [
  {
   "cell_type": "markdown",
   "metadata": {},
   "source": [
    "Future possible refinements:\n",
    " \n",
    "If we have caliper, then we can limit the spinner flow rate analysis to only those intervals that are in gauge\n",
    "\n",
    "Look for data where the spinner was stuck and remove these\n",
    "\n",
    "\n",
    "\n",
    "## 15. Velocity profiles from spinner data\n",
    "\n",
    "The spinner tool's impeller rotates in the positive direction when the tool is pulled upwards through the well and in the negitive direction when the tool is lowered down into the well. \n",
    "\n",
    "If the tool is moving at the same rate as the injected fluid, then the impeller stops spinner (frequency = 0)\n",
    "\n",
    "***"
   ]
  },
  {
   "cell_type": "markdown",
   "metadata": {},
   "source": [
    "***\n",
    "\n",
    "# 16. Import, mudge and check data\n",
    "\n",
    "## 16.1 Use bespoke functions to import and mudge data\n",
    "\n",
    "The data munging process in 1-overview.ipynb has been turned into specilised functions located in the functions.py file. We import and use that set of functions in the same way as any other module.\n"
   ]
  },
  {
   "cell_type": "code",
   "execution_count": null,
   "metadata": {},
   "outputs": [],
   "source": [
    "import pandas as pd\n",
    "import numpy as np\n",
    "from scipy import stats\n",
    "import matplotlib.pyplot as plt\n",
    "import matplotlib.dates as mdates\n",
    "from ipywidgets import interactive, Layout, FloatSlider\n",
    "from utilities import* # functions in the utilities.py file"
   ]
  },
  {
   "cell_type": "markdown",
   "metadata": {},
   "source": [
    "Because the cell below includes all steps required to import and mudge the data (everything from notebook 1), it will take a little while to run. "
   ]
  },
  {
   "cell_type": "code",
   "execution_count": null,
   "metadata": {},
   "outputs": [],
   "source": [
    "flowrate = read_flowrate(r'Data-FlowRate.xlsx')\n",
    "pts = read_pts(r'Data-PTS.xlsx')"
   ]
  },
  {
   "cell_type": "code",
   "execution_count": null,
   "metadata": {},
   "outputs": [],
   "source": [
    "pts.shape"
   ]
  },
  {
   "cell_type": "markdown",
   "metadata": {},
   "source": [
    "## 16.2 Add flowrate values to the pts dataframe\n",
    "\n",
    "Our fluid velocity analysis requires that we know the pump rate and spinner frequency. There are several ways we could approch this:\n",
    "\n",
    "1. We could assume that the pump rate was held perfectly steady the defined pump rate and set a single value\n",
    "2. We could use the actual flowrate data if that is available\n",
    "\n",
    "As have good quality surface pupmp data, we use the bespoke function below to append the flowrate data to the pts dataframe. As the flowrate data is recorded at a courser time resolution than the pts data. We used linear interpolation to fill the gaps. \n",
    "\n",
    "If you are using this workflow on your own data, you need to adjust the column names in the function. This method is documented in bonus-combine-date.ipynb"
   ]
  },
  {
   "cell_type": "code",
   "execution_count": null,
   "metadata": {},
   "outputs": [],
   "source": [
    "pts = append_flowrate_to_pts(flowrate, pts)"
   ]
  },
  {
   "cell_type": "code",
   "execution_count": null,
   "metadata": {},
   "outputs": [],
   "source": [
    "pts.shape"
   ]
  },
  {
   "cell_type": "code",
   "execution_count": null,
   "metadata": {},
   "outputs": [],
   "source": [
    "pts.head(2)"
   ]
  },
  {
   "cell_type": "markdown",
   "metadata": {},
   "source": [
    "## 16.3 Check the data\n",
    "\n",
    "It's good practice to check your data after import. \n",
    "\n",
    "You can use the Pandas methods listed in Section 2.1.1 (1-intro-and-data.ipynb) to check your data. \n",
    "\n",
    "### 16.3.1 Spinner by depth"
   ]
  },
  {
   "cell_type": "code",
   "execution_count": null,
   "metadata": {},
   "outputs": [],
   "source": [
    "fig, (ax1, ax2) = plt.subplots(1, 2,figsize=(24,8),sharey=True)\n",
    "\n",
    "ax1.scatter(pts.frequency_hz, pts.depth_m, c = pts.timestamp, s = 5, linewidths = 0)\n",
    "ax2.scatter(pts.datetime, pts.depth_m, c = pts.timestamp, s = 5, linewidths = 0)\n",
    "\n",
    "ax3 = ax2.twinx()\n",
    "ax3.plot(flowrate.datetime, flowrate.flow_tph, \n",
    "    c='k', linestyle = '-', linewidth = 3, alpha = 0.3, \n",
    "    label='Surface pump flowrate')\n",
    "\n",
    "ax1.set_ylim(1000,0)\n",
    "ax1.set_xlim(-30,30)\n",
    "\n",
    "ax1.set_ylabel('Depth [m]')\n",
    "ax1.set_xlabel('Spinner frequency [hz]')\n",
    "\n",
    "ax2.set_xlabel('Time [hh:mm]')\n",
    "ax2.xaxis.set_major_formatter(mdates.DateFormatter('%H:%M'))\n",
    "\n",
    "ax3.set_ylabel('Flowrate [t/hr]')\n",
    "\n",
    "for ax in [ax1, ax2]:\n",
    "    ax.grid()"
   ]
  },
  {
   "cell_type": "markdown",
   "metadata": {},
   "source": [
    "### 16.3.1 Spinner by time\n",
    "\n",
    "As we zoom into the data, we see that the issue of the slow-down"
   ]
  },
  {
   "cell_type": "code",
   "execution_count": null,
   "metadata": {},
   "outputs": [],
   "source": [
    "fig, (ax1, ax2) = plt.subplots(1, 2,figsize=(28,8))\n",
    "\n",
    "#ax1.plot(pts.datetime, pts.frequency_hz, c='k', linestyle = '-', linewidth = 1, alpha = 0.3)\n",
    "ax1.scatter(pts.datetime, pts.frequency_hz, c = pts.timestamp, s = 5, linewidths = 0)\n",
    "ax2.scatter(pts.datetime, pts.depth_m, c = pts.timestamp, s = 5, linewidths = 0)\n",
    "\n",
    "ax3 = ax2.twinx()\n",
    "ax3.plot(flowrate.datetime, flowrate.flow_tph, \n",
    "    c='k', linestyle = '-', linewidth = 3, alpha = 0.3, \n",
    "    label='Surface pump flowrate')\n",
    "\n",
    "ax4 = ax1.twinx()\n",
    "ax4.plot(pts.datetime, pts.depth_m, \n",
    "    c='k', linestyle = '-', linewidth = 2, alpha = 0.3, \n",
    "    label='Tool depth [m]')\n",
    "ax4.set_ylim(1000,-1000)\n",
    "ax4.set_ylabel('Tool depth [m]')\n",
    "\n",
    "ax1.set_ylim(-30,30)\n",
    "ax1.set_ylabel('Spinner frequency [hz]')\n",
    "\n",
    "ax2.set_ylim(1000,0)\n",
    "ax2.set_ylabel('Tool depth [m/s]')\n",
    "\n",
    "for ax in [ax1,ax2]:\n",
    "    ax.set_xlabel('Time [hh:mm]')\n",
    "    ax.xaxis.set_major_formatter(mdates.DateFormatter('%H:%M'))\n",
    "\n",
    "ax3.set_ylabel('Flowrate [t/hr]')\n",
    "\n",
    "for ax in [ax1, ax2]:\n",
    "    ax.grid()\n",
    "\n",
    "#\n",
    "# Limit to a time range\n",
    "#\n",
    "\n",
    "start_time = pd.to_datetime('2020-12-11 09:30:00')\n",
    "end_time = pd.to_datetime('2020-12-11 10:30:00')\n",
    "\n",
    "ax1.set_xlim(start_time,end_time)\n",
    "ax4.set_ylim(1000,400);"
   ]
  },
  {
   "cell_type": "markdown",
   "metadata": {},
   "source": [
    "## 16.4 Clean data\n",
    "\n",
    "Remove data aquired when the tool is stationary or slowing and the data aquired in the casing\n",
    "\n",
    "To understand this method and how we decided which data to filter, refer to bonus-filter-by-toolspeed.ipynb"
   ]
  },
  {
   "cell_type": "code",
   "execution_count": null,
   "metadata": {},
   "outputs": [],
   "source": [
    "moving_pts = pts[\n",
    "    (pts.speed_mps > 0.9 ) & (pts.speed_mps < pts.speed_mps.max()) | \n",
    "    (pts.speed_mps > pts.speed_mps.min() ) & (pts.speed_mps < -0.9)\n",
    "    ]\n",
    "\n",
    "production_shoe = 462.5  \n",
    "\n",
    "clean_pts = moving_pts[(moving_pts.depth_m < moving_pts.depth_m.max()) & (moving_pts.depth_m > production_shoe)]\n",
    "\n",
    "clean_pts.describe()"
   ]
  },
  {
   "cell_type": "markdown",
   "metadata": {},
   "source": [
    "Check the results of the cleaning"
   ]
  },
  {
   "cell_type": "code",
   "execution_count": null,
   "metadata": {},
   "outputs": [],
   "source": [
    "fig, (ax1, ax2) = plt.subplots(1, 2,figsize=(28,8))\n",
    "\n",
    "ax1.scatter(clean_pts.datetime, clean_pts.frequency_hz, c = clean_pts.timestamp, s = 5, linewidths = 0)\n",
    "ax2.scatter(clean_pts.datetime, clean_pts.depth_m, c = clean_pts.timestamp, s = 5, linewidths = 0)\n",
    "\n",
    "ax3 = ax2.twinx()\n",
    "ax3.plot(flowrate.datetime, flowrate.flow_tph, \n",
    "    c='k', linestyle = '-', linewidth = 3, alpha = 0.3, \n",
    "    label='Surface pump flowrate')\n",
    "\n",
    "ax4 = ax1.twinx()\n",
    "ax4.plot(pts.datetime, pts.depth_m, \n",
    "    c='k', linestyle = '-', linewidth = 2, alpha = 0.3, \n",
    "    label='Tool depth [m]')\n",
    "ax4.set_ylim(1000,400)\n",
    "ax4.set_ylabel('Tool depth [m]')\n",
    "\n",
    "ax1.set_ylim(-30,30)\n",
    "ax1.set_ylabel('Spinner frequency [hz]')\n",
    "\n",
    "ax2.set_ylim(1000,0)\n",
    "ax2.set_ylabel('Tool depth [m]')\n",
    "\n",
    "for ax in [ax1,ax2]:\n",
    "    ax.set_xlabel('Time [hh:mm]')\n",
    "    ax.xaxis.set_major_formatter(mdates.DateFormatter('%H:%M:%S'))\n",
    "\n",
    "ax3.set_ylabel('Flowrate [t/hr]')\n",
    "\n",
    "for ax in [ax1, ax2]:\n",
    "    ax.grid()\n",
    "\n",
    "#\n",
    "# Limit to a time range\n",
    "#\n",
    "\n",
    "start_time = pd.to_datetime('2020-12-11 14:30:00')\n",
    "end_time = pd.to_datetime('2020-12-11 15:30:00')\n",
    "\n",
    "ax1.set_xlim(start_time,end_time);"
   ]
  },
  {
   "cell_type": "markdown",
   "metadata": {},
   "source": [
    "***\n",
    "\n",
    "## 17. Select data by flowrate\n",
    "\n",
    "We do this because...\n",
    "\n",
    "### 17.1 Interactive plot with ipywidgets\n",
    "\n",
    "Use the sliders on the interactive plot below to... "
   ]
  },
  {
   "cell_type": "code",
   "execution_count": null,
   "metadata": {},
   "outputs": [],
   "source": [
    "\n",
    "min_timestamp = pts.timestamp.iloc[0]\n",
    "max_timestamp = pts.timestamp.iloc[-1]\n",
    "\n",
    "def subselect_plot(start_value, stop_value):\n",
    "    f,ax = plt.subplots(1,1, figsize = (20,6))\n",
    "    ax.scatter(clean_pts.timestamp, clean_pts.depth_m,\n",
    "        c = 'k', s = 1, linewidths = 0, label = 'Tool depth')\n",
    "    ax1 = ax.twinx()\n",
    "    ax1.plot(flowrate.timestamp, flowrate.flow_tph, \n",
    "        ':', c='k', label='Surface pump flowrate')\n",
    "    ymin = pts.depth_m.min()\n",
    "    ymax = pts.depth_m.max() + 100\n",
    "    ax.vlines(start_value, ymin, ymax, color='tab:green')\n",
    "    ax.vlines(stop_value, ymin, ymax, color='tab:red')\n",
    "    ax.set_ylim(pts.depth_m.max() + 100, 0)\n",
    "    ax.set_xlabel('Timestamp [sec]')\n",
    "    ax.set_ylabel('Tool depth [m]')\n",
    "    ax1.set_ylabel('Flowrate [t/hr]')\n",
    "\n",
    "result = interactive(subselect_plot,\n",
    "         \n",
    "         start_value = FloatSlider\n",
    "         (\n",
    "             value = (max_timestamp - min_timestamp)/3 + min_timestamp,\n",
    "             description = 'start',\n",
    "             min = min_timestamp, \n",
    "             max = max_timestamp, \n",
    "             step = 10, \n",
    "             continuous_update=False,\n",
    "             layout = Layout(width='80%'),\n",
    "             ),\n",
    "          \n",
    "          stop_value = FloatSlider\n",
    "          (\n",
    "             value = (max_timestamp - min_timestamp)/2 + min_timestamp, \n",
    "             description = 'stop',\n",
    "             min = min_timestamp, \n",
    "             max = max_timestamp, \n",
    "             step = 10, \n",
    "             continuous_update=False,\n",
    "             layout = Layout(width='80%')\n",
    "             )\n",
    ")\n",
    "\n",
    "display(result);\n"
   ]
  },
  {
   "cell_type": "code",
   "execution_count": null,
   "metadata": {},
   "outputs": [],
   "source": [
    "print(\n",
    "    'start =',result.children[0].value, ' which is', datetime.fromtimestamp(result.children[0].value), \n",
    "    '\\n stop =', result.children[1].value, ' which is', datetime.fromtimestamp(result.children[1].value),\n",
    "    )"
   ]
  },
  {
   "cell_type": "markdown",
   "metadata": {},
   "source": [
    "## 17.2 Record your analysis\n",
    "\n",
    "As part of making this process repeatable and so that it is easy to come back later to check the analysis, you need to use the range you have selected to manually define objects in the next step.\n",
    "\n",
    "Copy-paste the timestamps printed above into the cell below. They are now the objects that define the start and stop points for splicing the moving_pts dataframe. \n",
    "\n",
    "We could have defined the start and stop objects as the result.childern\\[0\\].value and result.childern\\[1\\].value objects. But if we did this, you would lose your work because these ipywidget results change every time the sliders are moved or the notebook is re-run. "
   ]
  },
  {
   "cell_type": "markdown",
   "metadata": {},
   "source": [
    "#### First pump flowrate (lowest rate)\n",
    "\n",
    "Insert results here\n",
    "\n",
    "#### Second pump flowrate (highest rate)\n",
    "\n",
    "start = 1607641584.448  which is 2020-12-11 12:06:24.448000 \n",
    "\n",
    "stop = 1607644334.448  which is 2020-12-11 12:52:14.448000\n",
    "\n",
    "#### Third pump flowrate (middle rate)\n",
    "\n",
    "Insert results here\n"
   ]
  },
  {
   "cell_type": "markdown",
   "metadata": {},
   "source": [
    "## 17.3 Make a dataframe for one flowrate\n",
    "\n",
    "We will do the rest of this analysis with only one rate ... but we need to do at least two ... think about notebook structure"
   ]
  },
  {
   "cell_type": "code",
   "execution_count": null,
   "metadata": {},
   "outputs": [],
   "source": [
    "\n",
    "start = 1607641584.448  # paste your start value here\n",
    "stop = 1607644334.448   # paste your stop value here\n",
    "name = 'Second pump rate'  # create an informative title for the data\n",
    "\n",
    "pts_second_rate = clean_pts[\n",
    "    (clean_pts.datetime > datetime.fromtimestamp(start)) \n",
    "    & (clean_pts.datetime < datetime.fromtimestamp(stop))\n",
    "]\n",
    "\n",
    "flowrate_second_rate = flowrate[\n",
    "    (flowrate.datetime > datetime.fromtimestamp(start)) \n",
    "    & (flowrate.datetime < datetime.fromtimestamp(stop))\n",
    "]"
   ]
  },
  {
   "cell_type": "markdown",
   "metadata": {},
   "source": [
    "Plot the subselected data"
   ]
  },
  {
   "cell_type": "code",
   "execution_count": null,
   "metadata": {},
   "outputs": [],
   "source": [
    "fig, (ax1, ax3) = plt.subplots(1, 2,figsize=(20,6))\n",
    "\n",
    "ax1.scatter(pts_second_rate.datetime, pts_second_rate.frequency_hz, \n",
    "    c = pts_second_rate.timestamp, s = 5, linewidths = 0)\n",
    "\n",
    "ax2 = ax1.twinx()\n",
    "ax2.plot(flowrate_second_rate.datetime, flowrate_second_rate.flow_tph, \n",
    "    c='k', linestyle = '-', linewidth = 3, alpha = 0.3, \n",
    "    label='Surface pump flowrate')\n",
    "\n",
    "ax3.scatter(pts_second_rate.frequency_hz, pts_second_rate.depth_m, \n",
    "    c = pts_second_rate.timestamp, s = 5, linewidths = 0)\n",
    "\n",
    "ax1.set_ylabel('Spinner frequency [hz]')\n",
    "ax1.set_xlabel('Time [hh:mm]')\n",
    "ax1.xaxis.set_major_formatter(mdates.DateFormatter('%H:%M'))\n",
    "\n",
    "ax2.set_ylabel('Pump rate [t/hr]')\n",
    "\n",
    "ax3.set_xlabel('Spinner frequency [hz]')\n",
    "ax3.set_ylabel('Depth [m]')\n",
    "\n",
    "for ax in [ax1,ax3]:\n",
    "    ax.grid()\n",
    "\n",
    "for ax in [ax2, ax4]:\n",
    "    ax.legend()"
   ]
  },
  {
   "cell_type": "markdown",
   "metadata": {},
   "source": [
    "***\n",
    "\n",
    "# 18. Cross-plot analysis\n",
    "\n",
    "Describe the method here and demostration with one meter of data"
   ]
  },
  {
   "cell_type": "code",
   "execution_count": null,
   "metadata": {},
   "outputs": [],
   "source": [
    "interval_top = 700 # shallowest depth in the cross-plot analysis interval\n",
    "interval_bottom = 701 # deepest depth in the cross-plot analysis interval\n",
    "\n",
    "\n",
    "selected_data = pts_second_rate[\n",
    "    (pts_second_rate.depth_m > interval_top ) & (pts_second_rate.depth_m < interval_bottom)\n",
    "    ]\n",
    "\n",
    "linear_model = stats.linregress(selected_data.frequency_hz, selected_data.speed_mps)\n",
    "\n",
    "slope = linear_model[0]\n",
    "intercept = linear_model[1] # this is the tool speed that matches the fluid velocity\n",
    "rvalue = linear_model[2] # this is how well the model fits the data and will be a filter\n",
    "\n",
    "print(rvalue, rvalue**2, intercept) "
   ]
  },
  {
   "cell_type": "markdown",
   "metadata": {},
   "source": [
    "The stats.linregress method returns the R value, which is a number between 1 and -1 where:\n",
    "- -1 indicates that an **increase** in x has an assocated **decrease** in y\n",
    "- +1 indicates that an **increase** in x has an assocated **increase** in y\n",
    "- 0 indicates there is **no relationship** between x and y\n",
    "\n",
    "The $R^2$ value tells us how related x and y are. $R^2$ varies between 0 and 1 and can be thought of how well the model explains the varation. If $R^2 = 0.99$ then the model expalins 99% of the varation in the data, which is a very good fit. While an $R^2 = 0.3$ indicates that the model explains only 30% of the varation of the data, which is not a good fit.\n",
    "\n",
    "Because we (a) have a lot of data to work with and (b) are seeking to generate a fluid velocisty profile with minimal noise, we are setting a high bar for how well our model explains the varation in the data. The fluid velocity results from any of our linear regressions that return a $R^2$ value < **XX** will be discarded from our analysis. "
   ]
  },
  {
   "cell_type": "code",
   "execution_count": null,
   "metadata": {},
   "outputs": [],
   "source": [
    "fig, (ax) = plt.subplots(1, 1,figsize=(6,6))\n",
    "   \n",
    "ax.scatter(selected_data.frequency_hz, selected_data.speed_mps,\n",
    "    color = 'none', edgecolors = 'k', marker='o', s = 50, linewidths = 1)\n",
    "\n",
    "model_y_vals = [] # y values using our model\n",
    "for n in selected_data.frequency_hz:\n",
    "    model_y_vals.append(slope * n + intercept)\n",
    "\n",
    "ax.plot(selected_data.frequency_hz, model_y_vals, \n",
    "    color='tab:orange', linestyle='-', linewidth=3, alpha=0.5, label='Linear fit')\n",
    "\n",
    "ax.scatter(0,intercept,\n",
    "    color='tab:orange', s = 100)\n",
    "\n",
    "ax.hlines(0, -40, 40, color = 'k', linewidth = 0.5)\n",
    "ax.vlines(0, -2, 2, color = 'k', linewidth = 0.5)\n",
    "\n",
    "ax.set_xlim(-40,40)\n",
    "ax.set_ylim(-2,2)\n",
    "\n",
    "ax.set_xlabel('Spinner frequency [hz]')\n",
    "ax.set_ylabel('Tool speed [mps]')\n",
    "\n",
    "ax.grid()"
   ]
  },
  {
   "cell_type": "markdown",
   "metadata": {},
   "source": [
    "## 18.2 Frequency analysis for one flowrate dataframe\n",
    "\n",
    "Need to consider and refactor this method\n"
   ]
  },
  {
   "cell_type": "code",
   "execution_count": null,
   "metadata": {},
   "outputs": [],
   "source": [
    "# To do: write error for validation if bottom is less than top. Have it return informative error. \n",
    "\n",
    "def analysis_steps(analysis_top, analysis_bottom, step_size):\n",
    "    '''Make lists that define top and bottom of each analysis interval\n",
    "\n",
    "    The cross_plot_analysis function requires that we pass in two numbers that \n",
    "    define the top and bottom of each data interval that we will do the\n",
    "    cross-plot analysis on. \n",
    "\n",
    "    Args:   analysis_top: The shallowest depth of the spinner analysis interval\n",
    "            analysis_bottom: The deepest depth of the spinner analysis interval\n",
    "            step_size: the length of each cross-plot analysis interval within the spinner analysis interval\n",
    "\n",
    "    Returns:    list_tops: List of top of each cross-plot analysis interval\n",
    "                list_bots: List of the bottom of each cross-plot analysis interval   \n",
    "    \n",
    "    '''\n",
    "\n",
    "    list_tops = np.arange(\n",
    "        start = analysis_top, \n",
    "        stop = analysis_bottom - step_size, \n",
    "        step = step_size)\n",
    "\n",
    "    list_bots = np.arange(\n",
    "        start = analysis_top + step_size, \n",
    "        stop = analysis_bottom, \n",
    "        step = step_size)\n",
    "\n",
    "    return list_tops, list_bots\n",
    "\n",
    "# To do: generalise this function so it does not matter what the column headers are\n",
    "\n",
    "def cross_plot_analysis(dataframe, interval_top, interval_bottom):  \n",
    "    '''\n",
    "    Cross plot analysis of spinner frequency and tool speed data to find fluid velocity\n",
    "\n",
    "    A liner interpolation of spinner frequency (x) and tool speed (y) to find the fluid velocity (y intercept).\n",
    "    The method also returns the model slope, R squared (goodness of fit), and the number of data points used.\n",
    "\n",
    "    Args:\n",
    "\n",
    "    Returns:\n",
    "\n",
    "    '''  \n",
    "    temp_df = dataframe[\n",
    "            (dataframe.depth_m > interval_top) & (dataframe.depth_m < interval_bottom)]\n",
    "    freq_data = temp_df.frequency_hz.tolist()\n",
    "    speed_data = temp_df.speed_mps.tolist()\n",
    "    number_of_df_rows = temp_df.shape[0]\n",
    "    if number_of_df_rows > 1:\n",
    "        linear_model = stats.linregress(temp_df.frequency_hz, temp_df.speed_mps)\n",
    "        r_squared = linear_model[2]**2\n",
    "    else: \n",
    "        linear_model = [None,None]\n",
    "        r_squared = None\n",
    "    return freq_data, speed_data, linear_model[1], linear_model[0], r_squared, number_of_df_rows # intercept, slope, rvalue, number of observations\n",
    "\n",
    "# Need to test for data in the subselection for the linear model. If there is no data then return NaN, if there is data then do the linear fit\n"
   ]
  },
  {
   "cell_type": "code",
   "execution_count": null,
   "metadata": {},
   "outputs": [],
   "source": [
    "top = 460 # shallowest data depth\n",
    "bottom = 925 # deepest data depth\n",
    "step = 0.5 # interval thickness for each cross-plot\n",
    "\n",
    "# define the interval steps\n",
    "list_tops, list_bots = analysis_steps(top, bottom, step)\n",
    "\n",
    "# define our lists\n",
    "depth = [] # half way between top and bottom of step\n",
    "frequency_data = []\n",
    "speed_data = []\n",
    "fluid_velocity = [] # model intecept\n",
    "slope = [] # model slope\n",
    "rsquared = [] # goodenss of fit\n",
    "obs_num = [] # number of observations in the step\n",
    "\n",
    "# iterate over our interval steps and calculate a linear fit for each\n",
    "for top, bot in zip(list_tops, list_bots):\n",
    "    d = (bot - top)/2 + top \n",
    "    depth.append(d)\n",
    "    fd, sd, v, s, r, obs = cross_plot_analysis(pts_second_rate, top, bot)\n",
    "    frequency_data.append(fd)\n",
    "    speed_data.append(sd)\n",
    "    fluid_velocity.append(v)\n",
    "    slope.append(s)\n",
    "    rsquared.append(r)\n",
    "    obs_num.append(obs) \n",
    "    \n",
    "\n",
    "# To do: write a wrapper function that handles the generation of the final dataframe\n",
    "# so we can just pass in the dataframe (here pts_second_rate), top, bottom and step"
   ]
  },
  {
   "cell_type": "code",
   "execution_count": null,
   "metadata": {},
   "outputs": [],
   "source": [
    "# Turn the results into a dataframe so we can eaisly explore the data\n",
    "\n",
    "fluid_velocity_df = pd.DataFrame()\n",
    "fluid_velocity_df['depth_m'] = depth\n",
    "fluid_velocity_df['intercept_velocity_mps'] = fluid_velocity\n",
    "fluid_velocity_df['slope'] = slope\n",
    "fluid_velocity_df['r_squared'] = rsquared\n",
    "fluid_velocity_df['obs_num'] = obs_num\n",
    "fluid_velocity_df['frequency_data_hz'] = frequency_data\n",
    "fluid_velocity_df['speed_data_mps'] = speed_data\n",
    "fluid_velocity_df.tail()"
   ]
  },
  {
   "cell_type": "markdown",
   "metadata": {},
   "source": [
    "### Check the results"
   ]
  },
  {
   "cell_type": "code",
   "execution_count": null,
   "metadata": {},
   "outputs": [],
   "source": [
    "fluid_velocity_df.describe()"
   ]
  },
  {
   "cell_type": "code",
   "execution_count": null,
   "metadata": {},
   "outputs": [],
   "source": [
    "fig, (ax1, ax2) = plt.subplots(1, 2, figsize=(16,6), sharey=True)\n",
    "\n",
    "fig.suptitle('Evaluate the Quaility of the Raw Cross-plot Analysis')\n",
    "\n",
    "ax1.set_title('R-squared value')\n",
    "im1 = ax1.scatter(fluid_velocity_df.intercept_velocity_mps, fluid_velocity_df.depth_m,\n",
    "    c = fluid_velocity_df.r_squared, s = 20, linewidths = 0)\n",
    "fig.colorbar(im1,ax=ax1)\n",
    "\n",
    "ax2.set_title('Number of data points used')\n",
    "im2 = ax2.scatter(fluid_velocity_df.intercept_velocity_mps, fluid_velocity_df.depth_m,\n",
    "    c = fluid_velocity_df.obs_num, s = 20, linewidths = 0)\n",
    "fig.colorbar(im2,ax=ax2)\n",
    "\n",
    "ax1.set_ylabel('Depth [m]')\n",
    "ax1.set_ylim(950,400)\n",
    "\n",
    "for ax in [ax1,ax2]:\n",
    "    ax.set_xlabel('Fluid velocity [m/s]')"
   ]
  },
  {
   "cell_type": "markdown",
   "metadata": {},
   "source": [
    "### Clean the data\n",
    "\n",
    "Using number of values in the crossplot interval and the R2 value"
   ]
  },
  {
   "cell_type": "code",
   "execution_count": null,
   "metadata": {},
   "outputs": [],
   "source": [
    "# Filter data based on R2 value\n",
    "\n",
    "filtered_fluid_velocity_df = fluid_velocity_df[(fluid_velocity_df.r_squared > 0.98 )]\n",
    "\n",
    "# filter data based on number of values\n",
    "\n",
    "filtered_fluid_velocity_df = filtered_fluid_velocity_df[(filtered_fluid_velocity_df.obs_num > 6 )]\n",
    "\n",
    "\n",
    "print('before filter =', fluid_velocity_df.shape, 'after filter =', filtered_fluid_velocity_df.shape)"
   ]
  },
  {
   "cell_type": "markdown",
   "metadata": {},
   "source": [
    "Check the results of cleaning"
   ]
  },
  {
   "cell_type": "code",
   "execution_count": null,
   "metadata": {},
   "outputs": [],
   "source": [
    "fig, (ax1, ax2) = plt.subplots(1, 2, figsize=(16,6), sharey=True)\n",
    "\n",
    "fig.suptitle('Evaluate the Quaility of the Cross-plot Analysis after Filtering')\n",
    "\n",
    "ax1.set_title('R-squared value')\n",
    "im1 = ax1.scatter(filtered_fluid_velocity_df.intercept_velocity_mps, filtered_fluid_velocity_df.depth_m,\n",
    "    c = filtered_fluid_velocity_df.r_squared, s = 20, linewidths = 0)\n",
    "fig.colorbar(im1,ax=ax1)\n",
    "\n",
    "ax2.set_title('Number of data points used')\n",
    "im2 = ax2.scatter(filtered_fluid_velocity_df.intercept_velocity_mps, filtered_fluid_velocity_df.depth_m,\n",
    "    c = filtered_fluid_velocity_df.obs_num, s = 20, linewidths = 0)\n",
    "fig.colorbar(im2,ax=ax2)\n",
    "\n",
    "ax1.set_ylabel('Depth [m]')\n",
    "ax1.set_ylim(950,400)\n",
    "\n",
    "for ax in [ax1,ax2]:\n",
    "    ax.set_xlabel('Fluid velocity [m/s]')"
   ]
  },
  {
   "cell_type": "markdown",
   "metadata": {},
   "source": [
    "## Check a single depth"
   ]
  },
  {
   "cell_type": "code",
   "execution_count": null,
   "metadata": {},
   "outputs": [],
   "source": [
    "\n",
    "def crossplot_check_figure(dataframe, row_number):\n",
    "    # call the row values from the dataframe\n",
    "    frequency_data_hz = dataframe.iloc[row_number]['frequency_data_hz'] #.values.tolist()\n",
    "    speed_data_mps = dataframe.iloc[row_number]['speed_data_mps'] #.values.tolist()\n",
    "    slope = dataframe.iloc[row_number]['slope']\n",
    "    intercept = dataframe.iloc[row_number]['intercept_velocity_mps']\n",
    "    \n",
    "    # calculate y values using our model\n",
    "    model_y_vals = []\n",
    "    for n in frequency_data_hz:\n",
    "        model_y_vals.append(slope * n + intercept)\n",
    "\n",
    "    # generate test plot\n",
    "    fig, (ax) = plt.subplots(1, 1,figsize=(8,8))\n",
    "    ax.set_title('Format a text string for here that calls R2 and depth and datapoint num') # TO DO\n",
    "    \n",
    "    ax.scatter(frequency_data_hz, speed_data_mps,\n",
    "        color = 'none', edgecolors = 'k', marker='o', s = 50, linewidths = 1)\n",
    "\n",
    "    ax.plot(frequency_data_hz, model_y_vals, \n",
    "        color='tab:orange', linestyle='-', linewidth=3, alpha=0.5, label='Linear fit')\n",
    "\n",
    "    ax.hlines(0, -40, 40, color = 'k', linewidth = 0.5)\n",
    "    ax.vlines(0, -2, 2, color = 'k', linewidth = 0.5)\n",
    "\n",
    "    ax.set_xlim(-40,40)\n",
    "    ax.set_ylim(-2,2)\n",
    "\n",
    "    ax.set_xlabel('Spinner frequency [hz]')\n",
    "    ax.set_ylabel('Tool speed [mps]')\n",
    "\n",
    "    ax.grid()\n",
    "\n",
    "    return plt\n"
   ]
  },
  {
   "cell_type": "code",
   "execution_count": null,
   "metadata": {},
   "outputs": [],
   "source": [
    "crossplot_check_figure(filtered_fluid_velocity_df,0)"
   ]
  },
  {
   "cell_type": "markdown",
   "metadata": {},
   "source": [
    "# Goal\n",
    "\n",
    "For at least two fluid injection rates, generate cross-plots to calculate the fluid velocity profile"
   ]
  },
  {
   "cell_type": "code",
   "execution_count": null,
   "metadata": {},
   "outputs": [],
   "source": [
    "# import the first heating temprature log for comparison\n",
    "\n",
    "heating_0days = pd.read_csv('data-heating0days.csv')\n",
    "heating_0days.head(2)"
   ]
  },
  {
   "cell_type": "markdown",
   "metadata": {},
   "source": [
    "You have finished the T21 geothermal well completion test tutoral. Well done!\n",
    "\n",
    "***\n",
    "\n",
    "<p><center>© 2021 <a href=\"https://www.cubicearth.nz/\">Irene Wallis</a> and <a href=\"https://www.linkedin.com/in/katie-mclean-25994315/\">Katie McLean</a> <a href=\"https://creativecommons.org/licenses/by/4.0/\"</a></center></p>\n",
    "\n",
    "<p><center>Licensed under the Apache License, Version 2.0 (the \"License\");\n",
    "you may not use this file except in compliance with the License.\n",
    "You may obtain a copy of the License at <a href=\"http://www.apache.org/licenses/LICENSE-2.0\">http://www.apache.org/licenses/LICENSE-2.0</a></center></p>\n",
    "\n",
    "<p><center>Unless required by applicable law or agreed to in writing, software\n",
    "distributed under the License is distributed on an \"AS IS\" BASIS,\n",
    "WITHOUT WARRANTIES OR CONDITIONS OF ANY KIND, either express or implied.\n",
    "See the License for the specific language governing permissions and\n",
    "limitations under the License.</center></p>\n",
    "\n",
    "***"
   ]
  },
  {
   "cell_type": "code",
   "execution_count": null,
   "metadata": {},
   "outputs": [],
   "source": []
  }
 ],
 "metadata": {
  "kernelspec": {
   "display_name": "geothrm",
   "language": "python",
   "name": "geothrm"
  },
  "language_info": {
   "codemirror_mode": {
    "name": "ipython",
    "version": 3
   },
   "file_extension": ".py",
   "mimetype": "text/x-python",
   "name": "python",
   "nbconvert_exporter": "python",
   "pygments_lexer": "ipython3",
   "version": "3.7.9"
  }
 },
 "nbformat": 4,
 "nbformat_minor": 4
}