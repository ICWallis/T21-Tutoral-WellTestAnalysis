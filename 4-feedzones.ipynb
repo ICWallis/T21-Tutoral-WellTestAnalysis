{
 "cells": [
  {
   "source": [
    " If we have caliper, then we can limit the spinner flow rate analysis to only those intervals that are in gauge\n",
    "\n",
    " Jorge Acuna paper at stanford workshop\n",
    "\n",
    " auto removal of data that are inconsistant with what would be expected (for instance the spinner was stuck)\n",
    "\n",
    "## Understanding spinner data\n",
    "\n",
    "The spinner tool's impeller rotates in the positive direction when the tool is pulled upwards through the well and in the negitive direction when the tool is lowered down into the well. \n",
    "\n",
    "If the tool is moving at the same rate as the injected fluid, then the impeller stops spinner (frequency = 0)"
   ],
   "cell_type": "markdown",
   "metadata": {}
  },
  {
   "cell_type": "code",
   "execution_count": null,
   "metadata": {},
   "outputs": [],
   "source": [
    "import pandas as pd\n",
    "import matplotlib.pyplot as plt\n",
    "import matplotlib.dates as mdates\n",
    "from ipywidgets import interactive, Layout, FloatSlider\n",
    "from utilities import* # functions in the utilities.py file"
   ]
  },
  {
   "source": [
    "Because the cell below includes all steps required to import and mudge the data (everything from notebook 1), it will take a little while to run. "
   ],
   "cell_type": "markdown",
   "metadata": {}
  },
  {
   "cell_type": "code",
   "execution_count": null,
   "metadata": {},
   "outputs": [],
   "source": [
    "flowrate = read_flowrate(r'Data-FlowRate.xlsx')\n",
    "pts = read_pts(r'Data-PTS.xlsx')"
   ]
  },
  {
   "cell_type": "code",
   "execution_count": null,
   "metadata": {},
   "outputs": [],
   "source": [
    "pts.shape"
   ]
  },
  {
   "source": [
    "## Add flowrate values to the pts dataframe\n",
    "\n",
    "Our fluid velocity analysis requires that we know the pump rate and spinner frequency. There are several ways we could approch this:\n",
    "\n",
    "1. We could assume that the pump rate was held perfectly steady the defined pump rate and set a single value\n",
    "2. We could use the actual flowrate data if that is available\n",
    "\n",
    "As have good quality surface pupmp data, we use the bespoke function below to append the flowrate data to the pts dataframe. As the flowrate data is recorded at a courser time resolution than the pts data. We used linear interpolation to fill the gaps. \n",
    "\n",
    "If you are using this workflow on your own data, you need to adjust the column names in the function. This method is documented in bonus-combine-date.ipynb"
   ],
   "cell_type": "markdown",
   "metadata": {}
  },
  {
   "cell_type": "code",
   "execution_count": null,
   "metadata": {},
   "outputs": [],
   "source": [
    "pts = append_flowrate_to_pts(flowrate, pts)"
   ]
  },
  {
   "cell_type": "code",
   "execution_count": null,
   "metadata": {},
   "outputs": [],
   "source": [
    "pts.shape"
   ]
  },
  {
   "cell_type": "code",
   "execution_count": null,
   "metadata": {},
   "outputs": [],
   "source": [
    "pts.head(2)"
   ]
  },
  {
   "source": [
    "## Look at the spinner data -- by depth"
   ],
   "cell_type": "markdown",
   "metadata": {}
  },
  {
   "cell_type": "code",
   "execution_count": null,
   "metadata": {},
   "outputs": [],
   "source": [
    "fig, (ax1, ax2) = plt.subplots(1, 2,figsize=(24,8),sharey=True)\n",
    "\n",
    "ax1.scatter(pts.frequency_hz, pts.depth_m, c = pts.timestamp, s = 5, linewidths = 0)\n",
    "ax2.scatter(pts.datetime, pts.depth_m, c = pts.timestamp, s = 5, linewidths = 0)\n",
    "\n",
    "ax3 = ax2.twinx()\n",
    "ax3.plot(flowrate.datetime, flowrate.flow_tph, \n",
    "    c='k', linestyle = '-', linewidth = 3, alpha = 0.3, \n",
    "    label='Surface pump flowrate')\n",
    "\n",
    "ax1.set_ylim(1000,0)\n",
    "ax1.set_xlim(-30,30)\n",
    "\n",
    "ax1.set_ylabel('Depth [m]')\n",
    "ax1.set_xlabel('Spinner frequency [hz]')\n",
    "\n",
    "ax2.set_xlabel('Time [hh:mm]')\n",
    "ax2.xaxis.set_major_formatter(mdates.DateFormatter('%H:%M'))\n",
    "\n",
    "ax3.set_ylabel('Flowrate [t/hr]')\n",
    "\n",
    "for ax in [ax1, ax2]:\n",
    "    ax.grid()"
   ]
  },
  {
   "source": [
    "## Look at the spinner data -- by time\n",
    "\n",
    "As we zoom in, we see that the issue of the slow-down"
   ],
   "cell_type": "markdown",
   "metadata": {}
  },
  {
   "cell_type": "code",
   "execution_count": null,
   "metadata": {},
   "outputs": [],
   "source": [
    "fig, (ax1, ax2) = plt.subplots(1, 2,figsize=(28,8))\n",
    "\n",
    "#ax1.plot(pts.datetime, pts.frequency_hz, c='k', linestyle = '-', linewidth = 1, alpha = 0.3)\n",
    "ax1.scatter(pts.datetime, pts.frequency_hz, c = pts.timestamp, s = 5, linewidths = 0)\n",
    "ax2.scatter(pts.datetime, pts.depth_m, c = pts.timestamp, s = 5, linewidths = 0)\n",
    "\n",
    "ax3 = ax2.twinx()\n",
    "ax3.plot(flowrate.datetime, flowrate.flow_tph, \n",
    "    c='k', linestyle = '-', linewidth = 3, alpha = 0.3, \n",
    "    label='Surface pump flowrate')\n",
    "\n",
    "ax4 = ax1.twinx()\n",
    "ax4.plot(pts.datetime, pts.depth_m, \n",
    "    c='k', linestyle = '-', linewidth = 2, alpha = 0.3, \n",
    "    label='Tool depth [m]')\n",
    "ax4.set_ylim(1000,-1000)\n",
    "ax4.set_ylabel('Tool depth [m]')\n",
    "\n",
    "ax1.set_ylim(-30,30)\n",
    "ax1.set_ylabel('Spinner frequency [hz]')\n",
    "\n",
    "ax2.set_ylim(1000,0)\n",
    "ax2.set_ylabel('Tool depth [m/s]')\n",
    "\n",
    "for ax in [ax1,ax2]:\n",
    "    ax.set_xlabel('Time [hh:mm]')\n",
    "    ax.xaxis.set_major_formatter(mdates.DateFormatter('%H:%M'))\n",
    "\n",
    "ax3.set_ylabel('Flowrate [t/hr]')\n",
    "\n",
    "for ax in [ax1, ax2]:\n",
    "    ax.grid()\n",
    "\n",
    "#\n",
    "# Limit to a time range\n",
    "#\n",
    "\n",
    "start_time = pd.to_datetime('2020-12-11 09:30:00')\n",
    "end_time = pd.to_datetime('2020-12-11 10:30:00')\n",
    "\n",
    "ax1.set_xlim(start_time,end_time)\n",
    "ax4.set_ylim(1000,400);"
   ]
  },
  {
   "source": [
    "### Remove data aquired when the tool is stationary or slowing and the data aquired in the casing\n",
    "\n",
    "To understand this method and how we decided which data to filter, refer to bonus-filter-by-toolspeed.ipynb"
   ],
   "cell_type": "markdown",
   "metadata": {}
  },
  {
   "cell_type": "code",
   "execution_count": null,
   "metadata": {},
   "outputs": [],
   "source": [
    "moving_pts = pts[\n",
    "    (pts.speed_mps > 0.9 ) & (pts.speed_mps < pts.speed_mps.max()) | \n",
    "    (pts.speed_mps > pts.speed_mps.min() ) & (pts.speed_mps < -0.9)\n",
    "    ]\n",
    "\n",
    "production_shoe = 462.5  \n",
    "\n",
    "clean_pts = moving_pts[(moving_pts.depth_m < moving_pts.depth_m.max()) & (moving_pts.depth_m > production_shoe)]\n",
    "\n",
    "clean_pts.describe()"
   ]
  },
  {
   "cell_type": "code",
   "execution_count": null,
   "metadata": {},
   "outputs": [],
   "source": [
    "## Plot clean data"
   ]
  },
  {
   "cell_type": "code",
   "execution_count": null,
   "metadata": {},
   "outputs": [],
   "source": [
    "fig, (ax1, ax2) = plt.subplots(1, 2,figsize=(28,8))\n",
    "\n",
    "ax1.scatter(clean_pts.datetime, clean_pts.frequency_hz, c = clean_pts.timestamp, s = 5, linewidths = 0)\n",
    "ax2.scatter(clean_pts.datetime, clean_pts.depth_m, c = clean_pts.timestamp, s = 5, linewidths = 0)\n",
    "\n",
    "ax3 = ax2.twinx()\n",
    "ax3.plot(flowrate.datetime, flowrate.flow_tph, \n",
    "    c='k', linestyle = '-', linewidth = 3, alpha = 0.3, \n",
    "    label='Surface pump flowrate')\n",
    "\n",
    "ax4 = ax1.twinx()\n",
    "ax4.plot(pts.datetime, pts.depth_m, \n",
    "    c='k', linestyle = '-', linewidth = 2, alpha = 0.3, \n",
    "    label='Tool depth [m]')\n",
    "ax4.set_ylim(1000,400)\n",
    "ax4.set_ylabel('Tool depth [m]')\n",
    "\n",
    "ax1.set_ylim(-30,30)\n",
    "ax1.set_ylabel('Spinner frequency [hz]')\n",
    "\n",
    "ax2.set_ylim(1000,0)\n",
    "ax2.set_ylabel('Tool depth [m]')\n",
    "\n",
    "for ax in [ax1,ax2]:\n",
    "    ax.set_xlabel('Time [hh:mm]')\n",
    "    ax.xaxis.set_major_formatter(mdates.DateFormatter('%H:%M:%S'))\n",
    "\n",
    "ax3.set_ylabel('Flowrate [t/hr]')\n",
    "\n",
    "for ax in [ax1, ax2]:\n",
    "    ax.grid()\n",
    "\n",
    "#\n",
    "# Limit to a time range\n",
    "#\n",
    "\n",
    "start_time = pd.to_datetime('2020-12-11 14:30:00')\n",
    "end_time = pd.to_datetime('2020-12-11 15:30:00')\n",
    "\n",
    "ax1.set_xlim(start_time,end_time);"
   ]
  },
  {
   "source": [
    "## Select data by rate\n",
    "\n"
   ],
   "cell_type": "markdown",
   "metadata": {}
  },
  {
   "cell_type": "code",
   "execution_count": null,
   "metadata": {},
   "outputs": [],
   "source": [
    "from ipywidgets import interactive, Layout, FloatSlider\n",
    "\n",
    "min_timestamp = pts.timestamp.iloc[0]\n",
    "max_timestamp = pts.timestamp.iloc[-1]\n",
    "\n",
    "def subselect_plot(start_value, stop_value):\n",
    "    f,ax = plt.subplots(1,1, figsize = (20,6))\n",
    "    ax.scatter(clean_pts.timestamp, clean_pts.depth_m,\n",
    "        c = 'k', s = 1, linewidths = 0, label = 'Tool depth')\n",
    "    ax1 = ax.twinx()\n",
    "    ax1.plot(flowrate.timestamp, flowrate.flow_tph, \n",
    "        ':', c='k', label='Surface pump flowrate')\n",
    "    ymin = pts.depth_m.min()\n",
    "    ymax = pts.depth_m.max() + 100\n",
    "    ax.vlines(start_value, ymin, ymax, color='tab:green')\n",
    "    ax.vlines(stop_value, ymin, ymax, color='tab:red')\n",
    "    ax.set_ylim(pts.depth_m.max() + 100, 0)\n",
    "    ax.set_xlabel('Timestamp [sec]')\n",
    "    ax.set_ylabel('Tool depth [m]')\n",
    "    ax1.set_ylabel('Flowrate [t/hr]')\n",
    "\n",
    "result = interactive(subselect_plot,\n",
    "         \n",
    "         start_value = FloatSlider\n",
    "         (\n",
    "             value = (max_timestamp - min_timestamp)/3 + min_timestamp,\n",
    "             description = 'start',\n",
    "             min = min_timestamp, \n",
    "             max = max_timestamp, \n",
    "             step = 10, \n",
    "             continuous_update=False,\n",
    "             layout = Layout(width='80%'),\n",
    "             ),\n",
    "          \n",
    "          stop_value = FloatSlider\n",
    "          (\n",
    "             value = (max_timestamp - min_timestamp)/2 + min_timestamp, \n",
    "             description = 'stop',\n",
    "             min = min_timestamp, \n",
    "             max = max_timestamp, \n",
    "             step = 10, \n",
    "             continuous_update=False,\n",
    "             layout = Layout(width='80%')\n",
    "             )\n",
    ")\n",
    "\n",
    "display(result);\n"
   ]
  },
  {
   "cell_type": "code",
   "execution_count": null,
   "metadata": {},
   "outputs": [],
   "source": [
    "print(\n",
    "    'start =',result.children[0].value, ' which is', datetime.fromtimestamp(result.children[0].value), \n",
    "    '\\n stop =', result.children[1].value, ' which is', datetime.fromtimestamp(result.children[1].value),\n",
    "    )"
   ]
  },
  {
   "source": [
    "### Record your analysis\n",
    "\n",
    "As part of making this process repeatable and so that it is easy to come back later to check the analysis, you need to use the range you have selected to manually define objects in the next step.\n",
    "\n",
    "Copy-paste the timestamps printed above into the cell below. They are now the objects that define the start and stop points for splicing the moving_pts dataframe. \n",
    "\n",
    "We could have defined the start and stop objects as the result.childern\\[0\\].value and result.childern\\[1\\].value objects. But if we did this, you would lose your work because these ipywidget results change every time the sliders are moved or the notebook is re-run. "
   ],
   "cell_type": "markdown",
   "metadata": {}
  },
  {
   "source": [
    "Second rate\n",
    "\n",
    "\n",
    "start = 1607641584.448  which is 2020-12-11 12:06:24.448000 \n",
    "\n",
    "stop = 1607644334.448  which is 2020-12-11 12:52:14.448000"
   ],
   "cell_type": "markdown",
   "metadata": {}
  },
  {
   "cell_type": "code",
   "execution_count": null,
   "metadata": {},
   "outputs": [],
   "source": [
    "start = 1607641584.448  # paste your start value here\n",
    "stop = 1607644334.448   # paste your stop value here\n",
    "name = 'Second pump rate'  # create an informative title for the data\n",
    "\n",
    "pts_second_rate = clean_pts[\n",
    "    (clean_pts.datetime > datetime.fromtimestamp(start)) \n",
    "    & (clean_pts.datetime < datetime.fromtimestamp(stop))\n",
    "]\n",
    "\n",
    "flowrate_second_rate = flowrate[\n",
    "    (flowrate.datetime > datetime.fromtimestamp(start)) \n",
    "    & (flowrate.datetime < datetime.fromtimestamp(stop))\n",
    "]"
   ]
  },
  {
   "cell_type": "code",
   "execution_count": null,
   "metadata": {},
   "outputs": [],
   "source": [
    "# import the first heating temprature log for comparison\n",
    "\n",
    "heating_0days = pd.read_csv('data-heating0days.csv')\n",
    "heating_0days.head(2)"
   ]
  },
  {
   "source": [
    "## Consider grabbing the second temp profile and throwing it in this plot\n",
    "\n",
    "Or all of them??"
   ],
   "cell_type": "markdown",
   "metadata": {}
  },
  {
   "cell_type": "code",
   "execution_count": null,
   "metadata": {},
   "outputs": [],
   "source": [
    "fig, (ax1, ax3) = plt.subplots(1, 2,figsize=(24,8))\n",
    "\n",
    "ax1.scatter(pts_second_rate.datetime, pts_second_rate.frequency_hz, \n",
    "    c = pts_second_rate.timestamp, s = 5, linewidths = 0)\n",
    "\n",
    "ax2 = ax1.twinx()\n",
    "ax2.plot(flowrate_second_rate.datetime, flowrate_second_rate.flow_tph, \n",
    "    c='k', linestyle = '-', linewidth = 3, alpha = 0.3, \n",
    "    label='Surface pump flowrate')\n",
    "\n",
    "ax3.scatter(pts_second_rate.frequency_hz, pts_second_rate.depth_m, \n",
    "    c = pts_second_rate.timestamp, s = 5, linewidths = 0)\n",
    "\n",
    "ax4 = ax3.twiny()\n",
    "ax4.plot(heating_0days.temp_degC, heating_0days.depth_m,\n",
    "    c = 'k', linestyle = '-', linewidth = 3, alpha = 0.3,\n",
    "    label = 'First heating run')\n",
    "\n",
    "ax1.set_ylabel('Spinner frequency [hz]')\n",
    "ax1.set_xlabel('Time [hh:mm]')\n",
    "ax1.xaxis.set_major_formatter(mdates.DateFormatter('%H:%M'))\n",
    "\n",
    "ax2.set_ylabel('Pump rate [t/hr]')\n",
    "\n",
    "ax3.set_xlabel('Spinner frequency [hz]')\n",
    "ax3.set_ylabel('Depth [m]')\n",
    "\n",
    "ax4.set_xlabel('Temperature [degC]')\n",
    "ax4.set_xlim(0,200)\n",
    "\n",
    "for ax in [ax1,ax3]:\n",
    "    ax.grid()\n",
    "\n",
    "for ax in [ax2, ax4]:\n",
    "    ax.legend()"
   ]
  },
  {
   "cell_type": "code",
   "execution_count": null,
   "metadata": {},
   "outputs": [],
   "source": [
    "pts_second_rate.columns"
   ]
  },
  {
   "cell_type": "code",
   "execution_count": null,
   "metadata": {},
   "outputs": [],
   "source": [
    "fig, (ax) = plt.subplots(1, 1,figsize=(8,8))\n",
    "\n",
    "ax.scatter(pts_second_rate.interpolated_flow_tph, pts_second_rate.frequency_hz,\n",
    "    c = pts_second_rate.timestamp, s = 30, linewidths = 0)\n",
    "\n",
    "ax.set_ylabel('Spinner frequency [hz]')\n",
    "ax.set_xlabel('Flow rate [t/hr]')\n"
   ]
  },
  {
   "cell_type": "code",
   "execution_count": null,
   "metadata": {},
   "outputs": [],
   "source": [
    "this_depth_df = pts_second_rate[\n",
    "    (pts_second_rate.depth_m > 700 ) & (pts_second_rate.depth_m < 701)\n",
    "    ]"
   ]
  },
  {
   "cell_type": "code",
   "execution_count": null,
   "metadata": {},
   "outputs": [],
   "source": [
    "fig, (ax) = plt.subplots(1, 1,figsize=(8,8))\n",
    "\n",
    "ax.scatter(this_depth_df.frequency_hz, this_depth_df.speed_mps,\n",
    "    color = 'none', edgecolors = 'k', marker='o', s = 50, linewidths = 1)\n",
    "\n",
    "ax.hlines(0, -40, 40, color = 'k', linewidth = 0.5)\n",
    "ax.vlines(0, -2, 2, color = 'k', linewidth = 0.5)\n",
    "\n",
    "ax.set_xlim(-40,40)\n",
    "ax.set_ylim(-2,2)\n",
    "\n",
    "ax.set_xlabel('Spinner frequency [hz]')\n",
    "ax.set_ylabel('Tool speed [mps]')\n",
    "\n",
    "ax.grid()"
   ]
  },
  {
   "source": [
    "# Goal\n",
    "\n",
    "For at least two fluid injection rates, generate cross-plots to calculate the fluid velocity profile"
   ],
   "cell_type": "markdown",
   "metadata": {}
  },
  {
   "cell_type": "markdown",
   "metadata": {},
   "source": [
    "You have finished the T21 geothermal well completion test tutoral. Well done!\n",
    "\n",
    "***\n",
    "\n",
    "<p><center>© 2021 <a href=\"https://www.cubicearth.nz/\">Irene Wallis</a> and <a href=\"https://www.linkedin.com/in/katie-mclean-25994315/\">Katie McLean</a> <a href=\"https://creativecommons.org/licenses/by/4.0/\"</a></center></p>\n",
    "\n",
    "<p><center>Licensed under the Apache License, Version 2.0 (the \"License\");\n",
    "you may not use this file except in compliance with the License.\n",
    "You may obtain a copy of the License at <a href=\"http://www.apache.org/licenses/LICENSE-2.0\">http://www.apache.org/licenses/LICENSE-2.0</a></center></p>\n",
    "\n",
    "<p><center>Unless required by applicable law or agreed to in writing, software\n",
    "distributed under the License is distributed on an \"AS IS\" BASIS,\n",
    "WITHOUT WARRANTIES OR CONDITIONS OF ANY KIND, either express or implied.\n",
    "See the License for the specific language governing permissions and\n",
    "limitations under the License.</center></p>\n",
    "\n",
    "***"
   ]
  },
  {
   "cell_type": "code",
   "execution_count": null,
   "metadata": {},
   "outputs": [],
   "source": []
  }
 ],
 "metadata": {
  "kernelspec": {
   "name": "python379jvsc74a57bd05f84944cbdf6ff6ac2afcd6c74dedc022d84e7a25a2c0cfdb88f6f712510a150",
   "display_name": "Python 3.7.9 64-bit ('geothrm': conda)"
  },
  "language_info": {
   "codemirror_mode": {
    "name": "ipython",
    "version": 3
   },
   "file_extension": ".py",
   "mimetype": "text/x-python",
   "name": "python",
   "nbconvert_exporter": "python",
   "pygments_lexer": "ipython3",
   "version": "3.7.9"
  }
 },
 "nbformat": 4,
 "nbformat_minor": 4
}