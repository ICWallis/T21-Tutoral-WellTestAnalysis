{
 "cells": [
  {
   "cell_type": "code",
   "execution_count": null,
   "metadata": {},
   "outputs": [],
   "source": [
    "# If we have caliper, then we can limit the spinner flow rate analysis to only those intervals that are in gauge\n",
    "\n",
    "# Jorge Acuna paper at stanford workshop\n",
    "\n",
    "# auto removal of data that are inconsistant with what would be expected (for instance the spinner was stuck)"
   ]
  },
  {
   "cell_type": "markdown",
   "metadata": {},
   "source": []
  },
  {
   "cell_type": "markdown",
   "metadata": {},
   "source": [
    "You have finished the T21 geothermal well completion test tutoral. Well done!\n",
    "\n",
    "<hr />\n",
    "\n",
    "© 2021 [CC-BY](https://creativecommons.org/licenses/by/4.0/) [Irene Wallis](https://www.cubicearth.nz/) and Katie McLean \n"
   ]
  }
 ],
 "metadata": {
  "kernelspec": {
   "display_name": "Python 3",
   "language": "python",
   "name": "python3"
  },
  "language_info": {
   "codemirror_mode": {
    "name": "ipython",
    "version": 3
   },
   "file_extension": ".py",
   "mimetype": "text/x-python",
   "name": "python",
   "nbconvert_exporter": "python",
   "pygments_lexer": "ipython3",
   "version": "3.7.9"
  }
 },
 "nbformat": 4,
 "nbformat_minor": 2
}